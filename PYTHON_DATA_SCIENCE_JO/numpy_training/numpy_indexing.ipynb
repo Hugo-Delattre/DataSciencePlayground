{
 "cells": [
  {
   "metadata": {},
   "cell_type": "markdown",
   "source": "# Bases array indexing",
   "id": "8b04f0d87ee937da"
  },
  {
   "metadata": {
    "ExecuteTime": {
     "end_time": "2025-03-29T14:06:33.569800Z",
     "start_time": "2025-03-29T14:06:33.491348Z"
    }
   },
   "cell_type": "code",
   "source": [
    "import numpy as np\n",
    "\n",
    "arr = np.arange(10) # même chose que range version array numpy\n",
    "print(arr) # 0, 1, 2, 3, 4, 5, 6, 7, 8, 9\n",
    "\n",
    "print(arr[2:])\n",
    "print(arr[2:5])"
   ],
   "id": "7b2c4c7b-2960-474c-b589-79f8ae3ba107",
   "outputs": [
    {
     "name": "stdout",
     "output_type": "stream",
     "text": [
      "[0 1 2 3 4 5 6 7 8 9]\n",
      "[2 3 4 5 6 7 8 9]\n",
      "[2 3 4]\n"
     ]
    }
   ],
   "execution_count": 1
  },
  {
   "metadata": {
    "ExecuteTime": {
     "end_time": "2025-03-29T10:57:33.398978Z",
     "start_time": "2025-03-29T10:57:33.395933Z"
    }
   },
   "cell_type": "code",
   "source": [
    "copied_array = arr.copy()\n",
    "copied_array[2:5] = 2\n",
    "print(copied_array)\n",
    "print(arr)"
   ],
   "id": "7ca84df6511ce0e4",
   "outputs": [
    {
     "name": "stdout",
     "output_type": "stream",
     "text": [
      "[0 1 2 2 2 5 6 7 8 9]\n",
      "[0 1 2 3 4 5 6 7 8 9]\n"
     ]
    }
   ],
   "execution_count": 26
  },
  {
   "metadata": {
    "ExecuteTime": {
     "end_time": "2025-03-29T10:57:33.553813Z",
     "start_time": "2025-03-29T10:57:33.550051Z"
    }
   },
   "cell_type": "code",
   "source": [
    "arr_2d = np.array([[5, 10, 15], [20, 25, 30], [35, 40, 45]])\n",
    "arr_2d"
   ],
   "id": "7749e5a43530815c",
   "outputs": [
    {
     "data": {
      "text/plain": [
       "array([[ 5, 10, 15],\n",
       "       [20, 25, 30],\n",
       "       [35, 40, 45]])"
      ]
     },
     "execution_count": 27,
     "metadata": {},
     "output_type": "execute_result"
    }
   ],
   "execution_count": 27
  },
  {
   "metadata": {
    "ExecuteTime": {
     "end_time": "2025-03-29T10:57:33.697608Z",
     "start_time": "2025-03-29T10:57:33.694127Z"
    }
   },
   "cell_type": "code",
   "source": "arr_2d[0] # on accède à la première ligne",
   "id": "cc37db5ee019db28",
   "outputs": [
    {
     "data": {
      "text/plain": [
       "array([ 5, 10, 15])"
      ]
     },
     "execution_count": 28,
     "metadata": {},
     "output_type": "execute_result"
    }
   ],
   "execution_count": 28
  },
  {
   "metadata": {
    "ExecuteTime": {
     "end_time": "2025-03-29T10:57:33.852635Z",
     "start_time": "2025-03-29T10:57:33.848863Z"
    }
   },
   "cell_type": "code",
   "source": "arr_2d[2][2] # on accède à la troisième ligne et troisième colonne",
   "id": "b7c1111c25cce91e",
   "outputs": [
    {
     "data": {
      "text/plain": [
       "45"
      ]
     },
     "execution_count": 29,
     "metadata": {},
     "output_type": "execute_result"
    }
   ],
   "execution_count": 29
  },
  {
   "metadata": {
    "ExecuteTime": {
     "end_time": "2025-03-29T10:57:34.026040Z",
     "start_time": "2025-03-29T10:57:34.020755Z"
    }
   },
   "cell_type": "code",
   "source": "arr_2d[2, 2] # même chose que la ligne précédente",
   "id": "5cb0b77faceec9ad",
   "outputs": [
    {
     "data": {
      "text/plain": [
       "45"
      ]
     },
     "execution_count": 30,
     "metadata": {},
     "output_type": "execute_result"
    }
   ],
   "execution_count": 30
  },
  {
   "metadata": {
    "ExecuteTime": {
     "end_time": "2025-03-29T10:57:34.179453Z",
     "start_time": "2025-03-29T10:57:34.175984Z"
    }
   },
   "cell_type": "code",
   "source": "arr_2d",
   "id": "407265ecd90aff85",
   "outputs": [
    {
     "data": {
      "text/plain": [
       "array([[ 5, 10, 15],\n",
       "       [20, 25, 30],\n",
       "       [35, 40, 45]])"
      ]
     },
     "execution_count": 31,
     "metadata": {},
     "output_type": "execute_result"
    }
   ],
   "execution_count": 31
  },
  {
   "metadata": {
    "ExecuteTime": {
     "end_time": "2025-03-29T10:57:34.349371Z",
     "start_time": "2025-03-29T10:57:34.345648Z"
    }
   },
   "cell_type": "code",
   "source": "arr_2d[:2, 1:] # on prend les deux premières lignes et toutes les colonnes à partir de la deuxième",
   "id": "c241bf93032928a0",
   "outputs": [
    {
     "data": {
      "text/plain": [
       "array([[10, 15],\n",
       "       [25, 30]])"
      ]
     },
     "execution_count": 32,
     "metadata": {},
     "output_type": "execute_result"
    }
   ],
   "execution_count": 32
  },
  {
   "metadata": {
    "ExecuteTime": {
     "end_time": "2025-03-29T10:57:34.491065Z",
     "start_time": "2025-03-29T10:57:34.488021Z"
    }
   },
   "cell_type": "code",
   "source": [
    "large_array = np.random.randint(0, 50, size=(10, 10))\n",
    "\n",
    "print(large_array)"
   ],
   "id": "4c2ee4c42d7ae3be",
   "outputs": [
    {
     "name": "stdout",
     "output_type": "stream",
     "text": [
      "[[18 15 16  0 33 49 19 40 35 15]\n",
      " [37 49 38  3 20 35 27 30  2 39]\n",
      " [44 33  8 12 16 37 42 25 21 38]\n",
      " [37  8 10  9 16 25 22 36 41  9]\n",
      " [11 14 31 47  7  2 16 32 24  0]\n",
      " [20 38 28  0 41 13 48 10 30 43]\n",
      " [47 16 17 22  6 10 26 19 36  3]\n",
      " [49 15 11 48 25 20  1  2 24 45]\n",
      " [ 6 44 49 46 13 37 11 44 37 12]\n",
      " [11 38 40  3 42 28 27 14 32 38]]\n"
     ]
    }
   ],
   "execution_count": 33
  },
  {
   "metadata": {
    "ExecuteTime": {
     "end_time": "2025-03-29T10:57:34.669525Z",
     "start_time": "2025-03-29T10:57:34.665803Z"
    }
   },
   "cell_type": "code",
   "source": "large_array[1:2, 4]",
   "id": "3dbb5e765c87b063",
   "outputs": [
    {
     "data": {
      "text/plain": [
       "array([20])"
      ]
     },
     "execution_count": 34,
     "metadata": {},
     "output_type": "execute_result"
    }
   ],
   "execution_count": 34
  },
  {
   "metadata": {
    "ExecuteTime": {
     "end_time": "2025-03-29T10:57:34.802206Z",
     "start_time": "2025-03-29T10:57:34.799768Z"
    }
   },
   "cell_type": "code",
   "source": "arr2 = np.arange(1,11)",
   "id": "4c77567120bbbae9",
   "outputs": [],
   "execution_count": 35
  },
  {
   "metadata": {
    "ExecuteTime": {
     "end_time": "2025-03-29T10:57:34.976740Z",
     "start_time": "2025-03-29T10:57:34.974131Z"
    }
   },
   "cell_type": "code",
   "source": "print(arr2)",
   "id": "ac66588adf9e060e",
   "outputs": [
    {
     "name": "stdout",
     "output_type": "stream",
     "text": [
      "[ 1  2  3  4  5  6  7  8  9 10]\n"
     ]
    }
   ],
   "execution_count": 36
  },
  {
   "metadata": {
    "ExecuteTime": {
     "end_time": "2025-03-29T10:57:35.182353Z",
     "start_time": "2025-03-29T10:57:35.178203Z"
    }
   },
   "cell_type": "code",
   "source": [
    "bool_arr = arr2 > 5 # équivalent de [x > 2 for x in arr2] en list python\n",
    "print(bool_arr) # [False False  ... True ... etc]"
   ],
   "id": "188fc07005c9b699",
   "outputs": [
    {
     "name": "stdout",
     "output_type": "stream",
     "text": [
      "[False False False False False  True  True  True  True  True]\n"
     ]
    }
   ],
   "execution_count": 37
  },
  {
   "metadata": {
    "ExecuteTime": {
     "end_time": "2025-03-29T10:59:17.916437Z",
     "start_time": "2025-03-29T10:59:17.912028Z"
    }
   },
   "cell_type": "code",
   "source": "arr2[bool_arr] # on accède aux éléments de arr2 qui sont supérieurs à 5",
   "id": "5af9624b5fcfad08",
   "outputs": [
    {
     "data": {
      "text/plain": [
       "array([ 6,  7,  8,  9, 10])"
      ]
     },
     "execution_count": 40,
     "metadata": {},
     "output_type": "execute_result"
    }
   ],
   "execution_count": 40
  },
  {
   "metadata": {
    "ExecuteTime": {
     "end_time": "2025-03-29T10:59:24.741696Z",
     "start_time": "2025-03-29T10:59:24.737956Z"
    }
   },
   "cell_type": "code",
   "source": "arr2[arr2>5] # pour le faire en une seule ligne",
   "id": "b6ae599eb7e5a61c",
   "outputs": [
    {
     "data": {
      "text/plain": [
       "array([ 6,  7,  8,  9, 10])"
      ]
     },
     "execution_count": 41,
     "metadata": {},
     "output_type": "execute_result"
    }
   ],
   "execution_count": 41
  },
  {
   "metadata": {
    "ExecuteTime": {
     "end_time": "2025-03-29T10:59:45.355549Z",
     "start_time": "2025-03-29T10:59:45.350541Z"
    }
   },
   "cell_type": "code",
   "source": "arr[arr<3]",
   "id": "455a4e209efeaa5",
   "outputs": [
    {
     "data": {
      "text/plain": [
       "array([0, 1, 2])"
      ]
     },
     "execution_count": 42,
     "metadata": {},
     "output_type": "execute_result"
    }
   ],
   "execution_count": 42
  },
  {
   "metadata": {
    "ExecuteTime": {
     "end_time": "2025-03-29T11:01:07.668077Z",
     "start_time": "2025-03-29T11:01:07.663397Z"
    }
   },
   "cell_type": "code",
   "source": [
    "arr_2d_new = np.arange(50).reshape(5, 10) # on crée un tableau de 50 éléments et on le reshape en 5 lignes et 10 colonnes\n",
    "print(arr_2d_new)"
   ],
   "id": "7182366c2bf208bb",
   "outputs": [
    {
     "name": "stdout",
     "output_type": "stream",
     "text": [
      "[[ 0  1  2  3  4  5  6  7  8  9]\n",
      " [10 11 12 13 14 15 16 17 18 19]\n",
      " [20 21 22 23 24 25 26 27 28 29]\n",
      " [30 31 32 33 34 35 36 37 38 39]\n",
      " [40 41 42 43 44 45 46 47 48 49]]\n"
     ]
    }
   ],
   "execution_count": 48
  },
  {
   "metadata": {
    "ExecuteTime": {
     "end_time": "2025-03-29T11:04:22.606691Z",
     "start_time": "2025-03-29T11:04:22.603214Z"
    }
   },
   "cell_type": "code",
   "source": [
    "# entraînement : sélectionner 13 14 et 23 24\n",
    "arr_2d_new[1:3, 3:5]"
   ],
   "id": "2c480f789efcf408",
   "outputs": [
    {
     "data": {
      "text/plain": [
       "array([[13, 14],\n",
       "       [23, 24]])"
      ]
     },
     "execution_count": 52,
     "metadata": {},
     "output_type": "execute_result"
    }
   ],
   "execution_count": 52
  },
  {
   "metadata": {},
   "cell_type": "code",
   "outputs": [],
   "execution_count": null,
   "source": "",
   "id": "f5dc2b4b2a5df8f6"
  }
 ],
 "metadata": {
  "kernelspec": {
   "display_name": "Python 3 (ipykernel)",
   "language": "python",
   "name": "python3"
  },
  "language_info": {
   "codemirror_mode": {
    "name": "ipython",
    "version": 3
   },
   "file_extension": ".py",
   "mimetype": "text/x-python",
   "name": "python",
   "nbconvert_exporter": "python",
   "pygments_lexer": "ipython3",
   "version": "3.12.9"
  }
 },
 "nbformat": 4,
 "nbformat_minor": 5
}
