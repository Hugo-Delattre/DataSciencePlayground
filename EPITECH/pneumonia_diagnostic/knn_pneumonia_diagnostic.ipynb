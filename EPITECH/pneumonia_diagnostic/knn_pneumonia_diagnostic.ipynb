{
 "cells": [
  {
   "cell_type": "markdown",
   "id": "187cc6e7",
   "metadata": {},
   "source": [
    "Imports"
   ]
  },
  {
   "cell_type": "code",
   "execution_count": 37,
   "id": "ae063ca3",
   "metadata": {
    "jupyter": {
     "is_executing": true
    }
   },
   "outputs": [],
   "source": [
    "import numpy as np\n",
    "import pandas as pd\n",
    "from sklearn.model_selection import train_test_split\n",
    "from sklearn.preprocessing import StandardScaler\n",
    "from sklearn.decomposition import PCA\n",
    "from sklearn.metrics import classification_report, confusion_matrix\n",
    "from sklearn.neighbors import KNeighborsClassifier\n",
    "from sklearn.model_selection import cross_val_score, StratifiedKFold\n",
    "import matplotlib.pyplot as plt\n",
    "import seaborn as sns\n",
    "import cv2\n",
    "import os"
   ]
  },
  {
   "cell_type": "markdown",
   "id": "a5153384",
   "metadata": {},
   "source": [
    "Frames loading et création du DataFrame"
   ]
  },
  {
   "cell_type": "code",
   "execution_count": 38,
   "id": "6aafc262",
   "metadata": {},
   "outputs": [
    {
     "name": "stdout",
     "output_type": "stream",
     "text": [
      "Train: label\n",
      "1    3875\n",
      "0    1341\n",
      "Name: count, dtype: int64\n",
      "Val: label\n",
      "0    8\n",
      "1    8\n",
      "Name: count, dtype: int64\n",
      "Test: label\n",
      "1    390\n",
      "0    234\n",
      "Name: count, dtype: int64\n"
     ]
    }
   ],
   "source": [
    "base_dir = \"./data/chest_Xray\"\n",
    "train_dir = os.path.join(base_dir, \"train\")\n",
    "val_dir = os.path.join(base_dir, \"val\")\n",
    "test_dir = os.path.join(base_dir, \"test\")\n",
    "\n",
    "\n",
    "def create_dataframe_from_pneumonia_directory(directory):\n",
    "    file_paths = []\n",
    "    labels = []\n",
    "    for class_name in [\"NORMAL\", \"PNEUMONIA\"]:\n",
    "        class_dir = os.path.join(directory, class_name)\n",
    "        for img_name in os.listdir(class_dir):\n",
    "            if img_name.startswith(\".\") or \"Zone.Identifier\" in img_name:\n",
    "                continue\n",
    "            img_path = os.path.join(class_dir, img_name)\n",
    "            file_paths.append(img_path)\n",
    "            labels.append(0 if class_name == \"NORMAL\" else 1)  # 0: NORMAL, 1: PNEUMONIA\n",
    "    return pd.DataFrame({\"file_path\": file_paths, \"label\": labels})\n",
    "\n",
    "\n",
    "train_df = create_dataframe_from_pneumonia_directory(train_dir)\n",
    "val_df = create_dataframe_from_pneumonia_directory(val_dir)\n",
    "test_df = create_dataframe_from_pneumonia_directory(test_dir)\n",
    "\n",
    "print(\"Train:\", train_df[\"label\"].value_counts())\n",
    "print(\"Val:\", val_df[\"label\"].value_counts())\n",
    "print(\"Test:\", test_df[\"label\"].value_counts())"
   ]
  },
  {
   "cell_type": "markdown",
   "id": "fddbf946",
   "metadata": {},
   "source": [
    "Split -> Pas besoin car nos dossiers étaient déjà triés par train/test/val.\n",
    "\n",
    "A la place on mettra en place la validation croisée"
   ]
  },
  {
   "cell_type": "markdown",
   "id": "45febe0f",
   "metadata": {},
   "source": [
    "Charger les images (On a précédemment chargé les images et créé un DataFrame,  mais pour faire un PCA, standardiser et faire un KNN il ne faut pas des chemins de fichiers mais des vecteurs)"
   ]
  },
  {
   "cell_type": "code",
   "execution_count": null,
   "id": "76b594ad",
   "metadata": {},
   "outputs": [],
   "source": [
    "trainval_df = pd.concat([train_df, val_df], ignore_index=True)\n",
    "\n",
    "def load_images(df, image_size=(64, 64)): # Passer en 64x64 ce qui réduira largement la vitesse de traitement\n",
    "    images = []\n",
    "    labels = []\n",
    "    for _, row in df.iterrows():\n",
    "        img = cv2.imread(row[\"file_path\"], cv2.IMREAD_GRAYSCALE) # Passer en niveaux de gris\n",
    "        if img is not None:\n",
    "            img = cv2.resize(img, image_size)\n",
    "            images.append(img.flatten())\n",
    "            labels.append(row[\"label\"])\n",
    "    return np.array(images), np.array(labels)\n",
    "\n",
    "\n",
    "X_trainval, y_trainval = load_images(trainval_df)"
   ]
  },
  {
   "cell_type": "code",
   "execution_count": null,
   "id": "e673c585",
   "metadata": {},
   "outputs": [],
   "source": []
  },
  {
   "cell_type": "markdown",
   "id": "d2fe5e52",
   "metadata": {},
   "source": [
    "Standardiser (ce qui consiste à centrer et réduire les données pour qu'elles aient une moyenne de 0 et un écart-type de 1)"
   ]
  },
  {
   "cell_type": "code",
   "execution_count": 40,
   "id": "4e5eae9c",
   "metadata": {},
   "outputs": [],
   "source": [
    "scaler = StandardScaler()\n",
    "X_scaled = scaler.fit_transform(X_trainval)"
   ]
  },
  {
   "cell_type": "markdown",
   "id": "f9a50daf",
   "metadata": {},
   "source": [
    "PCA pour réduire la dimensionnalité"
   ]
  },
  {
   "cell_type": "code",
   "execution_count": 41,
   "id": "8df5b76f",
   "metadata": {},
   "outputs": [],
   "source": [
    "pca = PCA(n_components=100)\n",
    "X_pca = pca.fit_transform(X_scaled)"
   ]
  },
  {
   "cell_type": "markdown",
   "id": "fceb9c9a",
   "metadata": {},
   "source": [
    "Classification KNN"
   ]
  },
  {
   "cell_type": "code",
   "execution_count": 42,
   "id": "dce0867e",
   "metadata": {},
   "outputs": [],
   "source": [
    "knn = KNeighborsClassifier(n_neighbors=5)"
   ]
  },
  {
   "cell_type": "markdown",
   "id": "3f54dcc7",
   "metadata": {},
   "source": [
    "Validation croisée"
   ]
  },
  {
   "cell_type": "code",
   "execution_count": 43,
   "id": "7a1ae7b6",
   "metadata": {},
   "outputs": [
    {
     "name": "stdout",
     "output_type": "stream",
     "text": [
      "Accuracy moyenne : 0.9507\n",
      "Scores de chaque fold : [0.94746896 0.95319962 0.95028681 0.94837476 0.9541109 ]\n"
     ]
    }
   ],
   "source": [
    "cv = StratifiedKFold(n_splits=5, shuffle=True, random_state=42)\n",
    "scores = cross_val_score(knn, X_pca, y_trainval, cv=cv, scoring=\"accuracy\")\n",
    "\n",
    "print(f\"Accuracy moyenne : {np.mean(scores):.4f}\")\n",
    "print(f\"Scores de chaque fold : {scores}\")"
   ]
  },
  {
   "cell_type": "code",
   "execution_count": 44,
   "id": "a61f0235",
   "metadata": {},
   "outputs": [
    {
     "name": "stdout",
     "output_type": "stream",
     "text": [
      "n_components=0.95, Accuracy moyenne : 0.9394\n",
      "n_components=50, Accuracy moyenne : 0.9474\n",
      "n_components=100, Accuracy moyenne : 0.9509\n",
      "n_components=150, Accuracy moyenne : 0.9505\n",
      "n_components=200, Accuracy moyenne : 0.9486\n",
      "n_components=300, Accuracy moyenne : 0.9457\n",
      "n_components=500, Accuracy moyenne : 0.9423\n"
     ]
    }
   ],
   "source": [
    "for n in [0.95, 50, 100, 150, 200, 300, 500]:\n",
    "    pca = PCA(n_components=n)\n",
    "    X_pca = pca.fit_transform(X_scaled)\n",
    "    scores = cross_val_score(knn, X_pca, y_trainval, cv=cv, scoring=\"accuracy\")\n",
    "    print(f\"n_components={n}, Accuracy moyenne : {np.mean(scores):.4f}\")"
   ]
  },
  {
   "cell_type": "code",
   "execution_count": null,
   "id": "939b9aee",
   "metadata": {},
   "outputs": [],
   "source": []
  },
  {
   "cell_type": "code",
   "execution_count": 45,
   "id": "815b0096",
   "metadata": {},
   "outputs": [
    {
     "data": {
      "image/png": "[encoded data removed]",
      "text/plain": [
       "<Figure size 800x500 with 1 Axes>"
      ]
     },
     "metadata": {},
     "output_type": "display_data"
    }
   ],
   "source": [
    "explained_variance_ratio = pca.explained_variance_ratio_\n",
    "cumulative_variance = np.cumsum(explained_variance_ratio)\n",
    "\n",
    "plt.figure(figsize=(8, 5))\n",
    "plt.plot(cumulative_variance, marker=\"o\", linestyle=\"--\")\n",
    "plt.xlabel(\"Nombre de composantes principales\")\n",
    "plt.ylabel(\"Variance expliquée cumulative\")\n",
    "plt.title(\"Variance expliquée par les composantes principales\")\n",
    "plt.grid()\n",
    "plt.show()"
   ]
  },
  {
   "cell_type": "code",
   "execution_count": 46,
   "id": "f6ddd83c",
   "metadata": {},
   "outputs": [
    {
     "name": "stdout",
     "output_type": "stream",
     "text": [
      "Accuracy moyenne avec 150 composantes : 0.9501\n"
     ]
    }
   ],
   "source": [
    "pca_150 = PCA(n_components=150)\n",
    "X_pca_150 = pca_150.fit_transform(X_scaled)\n",
    "scores_150 = cross_val_score(knn, X_pca_150, y_trainval, cv=cv, scoring=\"accuracy\")\n",
    "print(f\"Accuracy moyenne avec 150 composantes : {np.mean(scores_150):.4f}\")"
   ]
  }
 ],
 "metadata": {
  "kernelspec": {
   "display_name": "pneumonie",
   "language": "python",
   "name": "python3"
  },
  "language_info": {
   "codemirror_mode": {
    "name": "ipython",
    "version": 3
   },
   "file_extension": ".py",
   "mimetype": "text/x-python",
   "name": "python",
   "nbconvert_exporter": "python",
   "pygments_lexer": "ipython3",
   "version": "3.10.16"
  }
 },
 "nbformat": 4,
 "nbformat_minor": 5
}
