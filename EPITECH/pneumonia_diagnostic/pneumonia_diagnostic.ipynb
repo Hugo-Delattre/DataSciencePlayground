{
 "cells": [
  {
   "cell_type": "markdown",
   "id": "73a88562f7248187",
   "metadata": {
    "jupyter": {
     "is_executing": true
    }
   },
   "source": [
    "# **Projet Pneumonie**"
   ]
  },
  {
   "cell_type": "markdown",
   "id": "a6469871",
   "metadata": {},
   "source": [
    "## **A - Analyse du dataset**"
   ]
  },
  {
   "cell_type": "markdown",
   "id": "d888ff06",
   "metadata": {},
   "source": [
    "### ***1 - Répartition des classes***"
   ]
  },
  {
   "cell_type": "raw",
   "id": "481ca393",
   "metadata": {
    "vscode": {
     "languageId": "raw"
    }
   },
   "source": [
    "chest_Xray\n",
    "\t  |__ test\n",
    "\t\t\t\t |__ NORMAL (234)\n",
    "\t\t\t\t |__ PNEUMONIA (390) (fichiers _virus.jpeg ou _bacterie.jpeg)\n",
    "\t  |__ train\n",
    "\t\t\t\t |__ NORMAL (1341)\n",
    "\t\t\t\t |__ PNEUMONIA (3875) (fichiers _virus.jpeg ou _bacterie.jpeg)\n",
    "\t  |__ val\n",
    "\t\t\t\t |__ NORMAL (8)\n",
    "\t\t\t\t |__ PNEUMONIA (8) (_bacterie.jpeg)"
   ]
  },
  {
   "cell_type": "markdown",
   "id": "089bdc45",
   "metadata": {},
   "source": [
    "On remarque qu’on est sur un dataset d'entraînement désequilibré, avec dans le dataset d’entraînement sur les 5216 images 74,3% de pneumonie (3875 images) pour 25,7% de normal (1341 images * 100 / 5216). Pour éviter que la majorité de pneumonie biaise le model, on va donc :\n",
    "- éviter d'utiliser l'accuracy comme metric et préférer F1-score et ROC-AUC\n",
    "- éventuellement faire du rééchantillonnage pour voir si cela permet d'améliorer les résultats (undersampling de PNEUMONIA ou oversampling de NORMAL)"
   ]
  },
  {
   "cell_type": "markdown",
   "id": "d6a7a292",
   "metadata": {},
   "source": [
    "On remarque aussi que le dossier pneumonie contient deux types d'images, les pneumonies d'origine virale et les pneumonies d'origine bactérienne.\n",
    "\n",
    "Analysons la répartition"
   ]
  },
  {
   "cell_type": "code",
   "execution_count": 86,
   "id": "ae063ca3",
   "metadata": {},
   "outputs": [],
   "source": [
    "import os\n",
    "\n",
    "def analyse_pneumonia_files(dir):\n",
    "    virus_count = 0\n",
    "    bacteria_count = 0\n",
    "    pneumonia_dir = os.path.join(dir, \"PNEUMONIA\")\n",
    "\n",
    "    for img_name in os.listdir(pneumonia_dir):\n",
    "        if (\n",
    "            img_name.startswith(\".\") or \"Zone.Identifier\" in img_name\n",
    "        ):  # Présence de Zone.Identifier dans les fichiers téléchargés sur Windows, il faut les ignorer sinon on a 2 fois le nombre réel d'images\n",
    "            continue\n",
    "\n",
    "        if img_name.__contains__(\"virus\"): \n",
    "            # print(f\"Image virus: {img_name}\")\n",
    "            virus_count += 1\n",
    "        elif img_name.__contains__(\"bacteria\"):\n",
    "            # print(f\"Image bacteria: {img_name}\")\n",
    "            bacteria_count += 1\n",
    "            \n",
    "    return virus_count, bacteria_count\n"
   ]
  },
  {
   "cell_type": "code",
   "execution_count": 87,
   "id": "b9240dac",
   "metadata": {},
   "outputs": [
    {
     "data": {
      "text/plain": [
       "(0, 8)"
      ]
     },
     "execution_count": 87,
     "metadata": {},
     "output_type": "execute_result"
    }
   ],
   "source": [
    "base_dir = \"./data/chest_Xray\"\n",
    "result = analyse_pneumonia_files(os.path.join(base_dir, \"val\"))\n",
    "virus, bacteria = result\n",
    "result  # (virus : 0, bacteria : 8)"
   ]
  },
  {
   "cell_type": "code",
   "execution_count": 90,
   "id": "0fe75170",
   "metadata": {},
   "outputs": [
    {
     "data": {
      "text/plain": [
       "(1345, 2530)"
      ]
     },
     "execution_count": 90,
     "metadata": {},
     "output_type": "execute_result"
    }
   ],
   "source": [
    "base_dir = \"./data/chest_Xray\"\n",
    "analyse_pneumonia_files(os.path.join(base_dir, \"train\"))\n",
    "# (virus : 1345, bacteria : 2530)"
   ]
  },
  {
   "cell_type": "code",
   "execution_count": 89,
   "id": "e842aaa7",
   "metadata": {},
   "outputs": [
    {
     "data": {
      "text/plain": [
       "(148, 242)"
      ]
     },
     "execution_count": 89,
     "metadata": {},
     "output_type": "execute_result"
    }
   ],
   "source": [
    "base_dir = \"./data/chest_Xray\"\n",
    "analyse_pneumonia_files(os.path.join(base_dir, \"test\"))\n",
    "# (virus : 148, bacteria: 242)"
   ]
  },
  {
   "cell_type": "markdown",
   "id": "7d4fae0c",
   "metadata": {},
   "source": [
    "Donc la répartition NORMAL / BACTERIE / VIRUS est la suivante :"
   ]
  },
  {
   "cell_type": "raw",
   "id": "4bd2873f",
   "metadata": {
    "vscode": {
     "languageId": "raw"
    }
   },
   "source": [
    "chest_Xray\n",
    "\t  |__ test\n",
    "\t\t\t\t |__ NORMAL (234)\n",
    "\t\t\t\t |__ VIRUS (148)\n",
    "\t\t\t\t |__ BACTERIA (242)\n",
    "\t  |__ train\n",
    "\t\t\t\t |__ NORMAL (1341)\n",
    "\t\t\t\t |__ VIRUS (1345)\n",
    "\t\t\t\t |__ BACTERIA (2530)\n",
    "\t  |__ val\n",
    "\t\t\t\t |__ NORMAL (8)\n",
    "\t\t\t\t |__ VIRUS (0)\n",
    "\t\t\t\t |__ BACTERIA (8)"
   ]
  },
  {
   "cell_type": "markdown",
   "id": "b9fb1a11",
   "metadata": {},
   "source": [
    "Cette fois-ci on est sur du 25% 25% 50% entre NORMAL / BACTERIE / VIRUS, dans ce cas aussi il faudra gérer le déséquilibre :\n",
    "- Nous allons commencer par **2 classes** (no pneumonia / pneumonia) \n",
    "- Une fois bien optimisé on passera à **3 classes** (no pneumonia / bacteria pneumonia / virus pneumonia)\n",
    "- Dans tous les cas, le dataset est déséquilibré, on fera du sur-échantillonage ou sous-échantillonnage pour avoir un dataset équilibré \n",
    "\n",
    "On va faire les deux et comparer les résultats."
   ]
  },
  {
   "cell_type": "markdown",
   "id": "4458e8b9",
   "metadata": {},
   "source": [
    "On remarque aussi que le dataset de validation est très petit, et même qu'il ne contient pas de virus : \n",
    "- pour palier à ce problème nous allons mettre en place de la **cross-validation**."
   ]
  },
  {
   "cell_type": "markdown",
   "id": "fb38005b",
   "metadata": {},
   "source": [
    "### ***2 - Dimensions***"
   ]
  },
  {
   "cell_type": "markdown",
   "id": "48973b19",
   "metadata": {},
   "source": [
    "Nos images sont en niveau de gris, nous n'avons pas besoin de garder du RGB : \n",
    "- on va passer uniquement sur la couche R pour réduire la complexité et la taille des données."
   ]
  },
  {
   "cell_type": "code",
   "execution_count": 85,
   "id": "0ec6fc4b",
   "metadata": {},
   "outputs": [
    {
     "name": "stdout",
     "output_type": "stream",
     "text": [
      "4.11.0\n"
     ]
    }
   ],
   "source": [
    "import cv2\n",
    "\n",
    "print(cv2.__version__)"
   ]
  },
  {
   "cell_type": "markdown",
   "id": "1b5b9993",
   "metadata": {},
   "source": [
    "On remarque aussi que les images sont de tailles différentes : \n",
    "- on donc les redimensionner."
   ]
  },
  {
   "cell_type": "markdown",
   "id": "6d7cd779",
   "metadata": {},
   "source": [
    "En complément pour préparer les données on pourra mettre en place du PCA ou LDA pour réduire la dimensionnalité des données.\n",
    "- PCA pour réduire la dimensionnalité\n",
    "- LDA pour maximiser la séparation entre les classes mais requiert que les classes soient équilibrées, à réfléchir si je vais les rééchantillonner"
   ]
  },
  {
   "cell_type": "markdown",
   "id": "874a0522",
   "metadata": {},
   "source": [
    "## **B - Entraînement sans optimisation (référence)**"
   ]
  },
  {
   "cell_type": "markdown",
   "id": "f98eb9dd",
   "metadata": {},
   "source": [
    "Commençons par un entraînement sans traitement, ce qui nous permettra d'avoir une référence pour les améliorations qui suivront grâce au pré-traitement.\n",
    "Pour cela on va se placer sur 2 classes (normal et pneumonie), on utilisera ROC-AUC et F1-score comme métriques."
   ]
  },
  {
   "cell_type": "code",
   "execution_count": 103,
   "id": "ba454e30",
   "metadata": {},
   "outputs": [
    {
     "name": "stdout",
     "output_type": "stream",
     "text": [
      "Train: label\n",
      "1    3875\n",
      "0    1341\n",
      "Name: count, dtype: int64\n",
      "Val: label\n",
      "0    8\n",
      "1    8\n",
      "Name: count, dtype: int64\n",
      "Test: label\n",
      "1    390\n",
      "0    234\n",
      "Name: count, dtype: int64\n"
     ]
    }
   ],
   "source": [
    "import os\n",
    "import pandas as pd\n",
    "import cv2\n",
    "import numpy as np\n",
    "from tensorflow.keras.preprocessing.image import ImageDataGenerator\n",
    "\n",
    "# Chemins\n",
    "base_dir = \"./data/chest_Xray\"\n",
    "train_dir = os.path.join(base_dir, \"train\")\n",
    "val_dir = os.path.join(base_dir, \"val\")\n",
    "test_dir = os.path.join(base_dir, \"test\")\n",
    "\n",
    "\n",
    "# Créer un DataFrame pour 2 classes\n",
    "def create_dataframe(directory):\n",
    "    file_paths = []\n",
    "    labels = []\n",
    "    for class_name in [\"NORMAL\", \"PNEUMONIA\"]:\n",
    "        class_dir = os.path.join(directory, class_name)\n",
    "        for img_name in os.listdir(class_dir):\n",
    "            if img_name.startswith(\".\") or \"Zone.Identifier\" in img_name:\n",
    "                continue\n",
    "            img_path = os.path.join(class_dir, img_name)\n",
    "            file_paths.append(img_path)\n",
    "            labels.append(0 if class_name == \"NORMAL\" else 1)  # 0: NORMAL, 1: PNEUMONIA\n",
    "    return pd.DataFrame({\"file_path\": file_paths, \"label\": labels})\n",
    "\n",
    "\n",
    "train_df = create_dataframe(train_dir)\n",
    "val_df = create_dataframe(val_dir)\n",
    "test_df = create_dataframe(test_dir)\n",
    "\n",
    "# Vérifier\n",
    "print(\"Train:\", train_df[\"label\"].value_counts())\n",
    "print(\"Val:\", val_df[\"label\"].value_counts())\n",
    "print(\"Test:\", test_df[\"label\"].value_counts())"
   ]
  },
  {
   "cell_type": "code",
   "execution_count": 109,
   "id": "4d3b81c4",
   "metadata": {},
   "outputs": [
    {
     "name": "stdout",
     "output_type": "stream",
     "text": [
      "Found 5216 validated image filenames.\n",
      "Found 16 validated image filenames.\n",
      "Found 624 validated image filenames.\n"
     ]
    }
   ],
   "source": [
    "IMG_SIZE = (150, 150)  # Taille fixe pour le CNN\n",
    "BATCH_SIZE = 32\n",
    "\n",
    "# Générateur sans pré-traitement (juste redimensionnement)\n",
    "datagen = ImageDataGenerator()  # Pas de normalisation, pas d’augmentation\n",
    "\n",
    "train_generator = datagen.flow_from_dataframe(\n",
    "    train_df,\n",
    "    x_col=\"file_path\",\n",
    "    y_col=\"label\",\n",
    "    target_size=IMG_SIZE,  # Redimensionnement minimal\n",
    "    color_mode=\"rgb\",  # Images brutes en RGB\n",
    "    batch_size=BATCH_SIZE,\n",
    "    class_mode=\"raw\",\n",
    "    shuffle=True,\n",
    ")\n",
    "\n",
    "val_generator = datagen.flow_from_dataframe(\n",
    "    val_df,\n",
    "    x_col=\"file_path\",\n",
    "    y_col=\"label\",\n",
    "    target_size=IMG_SIZE,\n",
    "    color_mode=\"rgb\",\n",
    "    batch_size=BATCH_SIZE,\n",
    "    class_mode=\"raw\",\n",
    "    shuffle=False,\n",
    ")\n",
    "\n",
    "test_generator = datagen.flow_from_dataframe(\n",
    "    test_df,\n",
    "    x_col=\"file_path\",\n",
    "    y_col=\"label\",\n",
    "    target_size=IMG_SIZE,\n",
    "    color_mode=\"rgb\",\n",
    "    batch_size=BATCH_SIZE,\n",
    "    class_mode=\"raw\",\n",
    "    shuffle=False,\n",
    ")\n",
    "\n"
   ]
  },
  {
   "cell_type": "code",
   "execution_count": 113,
   "id": "715b603c",
   "metadata": {},
   "outputs": [
    {
     "data": {
      "image/png": "[encoded data removed]",
      "text/plain": [
       "<Figure size 640x480 with 1 Axes>"
      ]
     },
     "metadata": {},
     "output_type": "display_data"
    }
   ],
   "source": [
    "# Vérifier une image\n",
    "import matplotlib.pyplot as plt\n",
    "\n",
    "img, label = next(train_generator)\n",
    "plt.imshow(img[3].astype(\"uint8\"))  # Image RGB brute\n",
    "plt.title(f\"Label: {label[0]}\")\n",
    "plt.axis(\"off\")\n",
    "plt.show()"
   ]
  },
  {
   "cell_type": "code",
   "execution_count": null,
   "id": "f09a923d",
   "metadata": {},
   "outputs": [
    {
     "name": "stderr",
     "output_type": "stream",
     "text": [
      "/home/hugo/miniconda3/envs/pneumonie/lib/python3.10/site-packages/keras/src/layers/convolutional/base_conv.py:107: UserWarning: Do not pass an `input_shape`/`input_dim` argument to a layer. When using Sequential models, prefer using an `Input(shape)` object as the first layer in the model instead.\n",
      "  super().__init__(activity_regularizer=activity_regularizer, **kwargs)\n",
      "E0000 00:00:1745327101.049393    5122 cuda_executor.cc:1228] INTERNAL: CUDA Runtime error: Failed call to cudaGetRuntimeVersion: Error loading CUDA libraries. GPU will not be used.: Error loading CUDA libraries. GPU will not be used.\n",
      "W0000 00:00:1745327101.102208    5122 gpu_device.cc:2341] Cannot dlopen some GPU libraries. Please make sure the missing libraries mentioned above are installed properly if you would like to use GPU. Follow the guide at https://www.tensorflow.org/install/gpu for how to download and setup the required libraries for your platform.\n",
      "Skipping registering GPU devices...\n"
     ]
    },
    {
     "data": {
      "text/html": [
       "<pre style=\"white-space:pre;overflow-x:auto;line-height:normal;font-family:Menlo,'DejaVu Sans Mono',consolas,'Courier New',monospace\"><span style=\"font-weight: bold\">Model: \"sequential\"</span>\n",
       "</pre>\n"
      ],
      "text/plain": [
       "\u001b[1mModel: \"sequential\"\u001b[0m\n"
      ]
     },
     "metadata": {},
     "output_type": "display_data"
    },
    {
     "data": {
      "text/html": [
       "<pre style=\"white-space:pre;overflow-x:auto;line-height:normal;font-family:Menlo,'DejaVu Sans Mono',consolas,'Courier New',monospace\">┏━━━━━━━━━━━━━━━━━━━━━━━━━━━━━━━━━┳━━━━━━━━━━━━━━━━━━━━━━━━┳━━━━━━━━━━━━━━━┓\n",
       "┃<span style=\"font-weight: bold\"> Layer (type)                    </span>┃<span style=\"font-weight: bold\"> Output Shape           </span>┃<span style=\"font-weight: bold\">       Param # </span>┃\n",
       "┡━━━━━━━━━━━━━━━━━━━━━━━━━━━━━━━━━╇━━━━━━━━━━━━━━━━━━━━━━━━╇━━━━━━━━━━━━━━━┩\n",
       "│ conv2d (<span style=\"color: #0087ff; text-decoration-color: #0087ff\">Conv2D</span>)                 │ (<span style=\"color: #00d7ff; text-decoration-color: #00d7ff\">None</span>, <span style=\"color: #00af00; text-decoration-color: #00af00\">148</span>, <span style=\"color: #00af00; text-decoration-color: #00af00\">148</span>, <span style=\"color: #00af00; text-decoration-color: #00af00\">32</span>)   │           <span style=\"color: #00af00; text-decoration-color: #00af00\">896</span> │\n",
       "├─────────────────────────────────┼────────────────────────┼───────────────┤\n",
       "│ max_pooling2d (<span style=\"color: #0087ff; text-decoration-color: #0087ff\">MaxPooling2D</span>)    │ (<span style=\"color: #00d7ff; text-decoration-color: #00d7ff\">None</span>, <span style=\"color: #00af00; text-decoration-color: #00af00\">74</span>, <span style=\"color: #00af00; text-decoration-color: #00af00\">74</span>, <span style=\"color: #00af00; text-decoration-color: #00af00\">32</span>)     │             <span style=\"color: #00af00; text-decoration-color: #00af00\">0</span> │\n",
       "├─────────────────────────────────┼────────────────────────┼───────────────┤\n",
       "│ conv2d_1 (<span style=\"color: #0087ff; text-decoration-color: #0087ff\">Conv2D</span>)               │ (<span style=\"color: #00d7ff; text-decoration-color: #00d7ff\">None</span>, <span style=\"color: #00af00; text-decoration-color: #00af00\">72</span>, <span style=\"color: #00af00; text-decoration-color: #00af00\">72</span>, <span style=\"color: #00af00; text-decoration-color: #00af00\">64</span>)     │        <span style=\"color: #00af00; text-decoration-color: #00af00\">18,496</span> │\n",
       "├─────────────────────────────────┼────────────────────────┼───────────────┤\n",
       "│ max_pooling2d_1 (<span style=\"color: #0087ff; text-decoration-color: #0087ff\">MaxPooling2D</span>)  │ (<span style=\"color: #00d7ff; text-decoration-color: #00d7ff\">None</span>, <span style=\"color: #00af00; text-decoration-color: #00af00\">36</span>, <span style=\"color: #00af00; text-decoration-color: #00af00\">36</span>, <span style=\"color: #00af00; text-decoration-color: #00af00\">64</span>)     │             <span style=\"color: #00af00; text-decoration-color: #00af00\">0</span> │\n",
       "├─────────────────────────────────┼────────────────────────┼───────────────┤\n",
       "│ conv2d_2 (<span style=\"color: #0087ff; text-decoration-color: #0087ff\">Conv2D</span>)               │ (<span style=\"color: #00d7ff; text-decoration-color: #00d7ff\">None</span>, <span style=\"color: #00af00; text-decoration-color: #00af00\">34</span>, <span style=\"color: #00af00; text-decoration-color: #00af00\">34</span>, <span style=\"color: #00af00; text-decoration-color: #00af00\">128</span>)    │        <span style=\"color: #00af00; text-decoration-color: #00af00\">73,856</span> │\n",
       "├─────────────────────────────────┼────────────────────────┼───────────────┤\n",
       "│ max_pooling2d_2 (<span style=\"color: #0087ff; text-decoration-color: #0087ff\">MaxPooling2D</span>)  │ (<span style=\"color: #00d7ff; text-decoration-color: #00d7ff\">None</span>, <span style=\"color: #00af00; text-decoration-color: #00af00\">17</span>, <span style=\"color: #00af00; text-decoration-color: #00af00\">17</span>, <span style=\"color: #00af00; text-decoration-color: #00af00\">128</span>)    │             <span style=\"color: #00af00; text-decoration-color: #00af00\">0</span> │\n",
       "├─────────────────────────────────┼────────────────────────┼───────────────┤\n",
       "│ flatten (<span style=\"color: #0087ff; text-decoration-color: #0087ff\">Flatten</span>)               │ (<span style=\"color: #00d7ff; text-decoration-color: #00d7ff\">None</span>, <span style=\"color: #00af00; text-decoration-color: #00af00\">36992</span>)          │             <span style=\"color: #00af00; text-decoration-color: #00af00\">0</span> │\n",
       "├─────────────────────────────────┼────────────────────────┼───────────────┤\n",
       "│ dense (<span style=\"color: #0087ff; text-decoration-color: #0087ff\">Dense</span>)                   │ (<span style=\"color: #00d7ff; text-decoration-color: #00d7ff\">None</span>, <span style=\"color: #00af00; text-decoration-color: #00af00\">128</span>)            │     <span style=\"color: #00af00; text-decoration-color: #00af00\">4,735,104</span> │\n",
       "├─────────────────────────────────┼────────────────────────┼───────────────┤\n",
       "│ dropout (<span style=\"color: #0087ff; text-decoration-color: #0087ff\">Dropout</span>)               │ (<span style=\"color: #00d7ff; text-decoration-color: #00d7ff\">None</span>, <span style=\"color: #00af00; text-decoration-color: #00af00\">128</span>)            │             <span style=\"color: #00af00; text-decoration-color: #00af00\">0</span> │\n",
       "├─────────────────────────────────┼────────────────────────┼───────────────┤\n",
       "│ dense_1 (<span style=\"color: #0087ff; text-decoration-color: #0087ff\">Dense</span>)                 │ (<span style=\"color: #00d7ff; text-decoration-color: #00d7ff\">None</span>, <span style=\"color: #00af00; text-decoration-color: #00af00\">1</span>)              │           <span style=\"color: #00af00; text-decoration-color: #00af00\">129</span> │\n",
       "└─────────────────────────────────┴────────────────────────┴───────────────┘\n",
       "</pre>\n"
      ],
      "text/plain": [
       "┏━━━━━━━━━━━━━━━━━━━━━━━━━━━━━━━━━┳━━━━━━━━━━━━━━━━━━━━━━━━┳━━━━━━━━━━━━━━━┓\n",
       "┃\u001b[1m \u001b[0m\u001b[1mLayer (type)                   \u001b[0m\u001b[1m \u001b[0m┃\u001b[1m \u001b[0m\u001b[1mOutput Shape          \u001b[0m\u001b[1m \u001b[0m┃\u001b[1m \u001b[0m\u001b[1m      Param #\u001b[0m\u001b[1m \u001b[0m┃\n",
       "┡━━━━━━━━━━━━━━━━━━━━━━━━━━━━━━━━━╇━━━━━━━━━━━━━━━━━━━━━━━━╇━━━━━━━━━━━━━━━┩\n",
       "│ conv2d (\u001b[38;5;33mConv2D\u001b[0m)                 │ (\u001b[38;5;45mNone\u001b[0m, \u001b[38;5;34m148\u001b[0m, \u001b[38;5;34m148\u001b[0m, \u001b[38;5;34m32\u001b[0m)   │           \u001b[38;5;34m896\u001b[0m │\n",
       "├─────────────────────────────────┼────────────────────────┼───────────────┤\n",
       "│ max_pooling2d (\u001b[38;5;33mMaxPooling2D\u001b[0m)    │ (\u001b[38;5;45mNone\u001b[0m, \u001b[38;5;34m74\u001b[0m, \u001b[38;5;34m74\u001b[0m, \u001b[38;5;34m32\u001b[0m)     │             \u001b[38;5;34m0\u001b[0m │\n",
       "├─────────────────────────────────┼────────────────────────┼───────────────┤\n",
       "│ conv2d_1 (\u001b[38;5;33mConv2D\u001b[0m)               │ (\u001b[38;5;45mNone\u001b[0m, \u001b[38;5;34m72\u001b[0m, \u001b[38;5;34m72\u001b[0m, \u001b[38;5;34m64\u001b[0m)     │        \u001b[38;5;34m18,496\u001b[0m │\n",
       "├─────────────────────────────────┼────────────────────────┼───────────────┤\n",
       "│ max_pooling2d_1 (\u001b[38;5;33mMaxPooling2D\u001b[0m)  │ (\u001b[38;5;45mNone\u001b[0m, \u001b[38;5;34m36\u001b[0m, \u001b[38;5;34m36\u001b[0m, \u001b[38;5;34m64\u001b[0m)     │             \u001b[38;5;34m0\u001b[0m │\n",
       "├─────────────────────────────────┼────────────────────────┼───────────────┤\n",
       "│ conv2d_2 (\u001b[38;5;33mConv2D\u001b[0m)               │ (\u001b[38;5;45mNone\u001b[0m, \u001b[38;5;34m34\u001b[0m, \u001b[38;5;34m34\u001b[0m, \u001b[38;5;34m128\u001b[0m)    │        \u001b[38;5;34m73,856\u001b[0m │\n",
       "├─────────────────────────────────┼────────────────────────┼───────────────┤\n",
       "│ max_pooling2d_2 (\u001b[38;5;33mMaxPooling2D\u001b[0m)  │ (\u001b[38;5;45mNone\u001b[0m, \u001b[38;5;34m17\u001b[0m, \u001b[38;5;34m17\u001b[0m, \u001b[38;5;34m128\u001b[0m)    │             \u001b[38;5;34m0\u001b[0m │\n",
       "├─────────────────────────────────┼────────────────────────┼───────────────┤\n",
       "│ flatten (\u001b[38;5;33mFlatten\u001b[0m)               │ (\u001b[38;5;45mNone\u001b[0m, \u001b[38;5;34m36992\u001b[0m)          │             \u001b[38;5;34m0\u001b[0m │\n",
       "├─────────────────────────────────┼────────────────────────┼───────────────┤\n",
       "│ dense (\u001b[38;5;33mDense\u001b[0m)                   │ (\u001b[38;5;45mNone\u001b[0m, \u001b[38;5;34m128\u001b[0m)            │     \u001b[38;5;34m4,735,104\u001b[0m │\n",
       "├─────────────────────────────────┼────────────────────────┼───────────────┤\n",
       "│ dropout (\u001b[38;5;33mDropout\u001b[0m)               │ (\u001b[38;5;45mNone\u001b[0m, \u001b[38;5;34m128\u001b[0m)            │             \u001b[38;5;34m0\u001b[0m │\n",
       "├─────────────────────────────────┼────────────────────────┼───────────────┤\n",
       "│ dense_1 (\u001b[38;5;33mDense\u001b[0m)                 │ (\u001b[38;5;45mNone\u001b[0m, \u001b[38;5;34m1\u001b[0m)              │           \u001b[38;5;34m129\u001b[0m │\n",
       "└─────────────────────────────────┴────────────────────────┴───────────────┘\n"
      ]
     },
     "metadata": {},
     "output_type": "display_data"
    },
    {
     "data": {
      "text/html": [
       "<pre style=\"white-space:pre;overflow-x:auto;line-height:normal;font-family:Menlo,'DejaVu Sans Mono',consolas,'Courier New',monospace\"><span style=\"font-weight: bold\"> Total params: </span><span style=\"color: #00af00; text-decoration-color: #00af00\">4,828,481</span> (18.42 MB)\n",
       "</pre>\n"
      ],
      "text/plain": [
       "\u001b[1m Total params: \u001b[0m\u001b[38;5;34m4,828,481\u001b[0m (18.42 MB)\n"
      ]
     },
     "metadata": {},
     "output_type": "display_data"
    },
    {
     "data": {
      "text/html": [
       "<pre style=\"white-space:pre;overflow-x:auto;line-height:normal;font-family:Menlo,'DejaVu Sans Mono',consolas,'Courier New',monospace\"><span style=\"font-weight: bold\"> Trainable params: </span><span style=\"color: #00af00; text-decoration-color: #00af00\">4,828,481</span> (18.42 MB)\n",
       "</pre>\n"
      ],
      "text/plain": [
       "\u001b[1m Trainable params: \u001b[0m\u001b[38;5;34m4,828,481\u001b[0m (18.42 MB)\n"
      ]
     },
     "metadata": {},
     "output_type": "display_data"
    },
    {
     "data": {
      "text/html": [
       "<pre style=\"white-space:pre;overflow-x:auto;line-height:normal;font-family:Menlo,'DejaVu Sans Mono',consolas,'Courier New',monospace\"><span style=\"font-weight: bold\"> Non-trainable params: </span><span style=\"color: #00af00; text-decoration-color: #00af00\">0</span> (0.00 B)\n",
       "</pre>\n"
      ],
      "text/plain": [
       "\u001b[1m Non-trainable params: \u001b[0m\u001b[38;5;34m0\u001b[0m (0.00 B)\n"
      ]
     },
     "metadata": {},
     "output_type": "display_data"
    }
   ],
   "source": [
    "from tensorflow.keras.models import Sequential\n",
    "from tensorflow.keras.layers import Conv2D, MaxPooling2D, Flatten, Dense, Dropout\n",
    "\n",
    "\n",
    "# Modèle CNN simple\n",
    "def create_baseline_model():\n",
    "    model = Sequential(\n",
    "        [\n",
    "            Conv2D(32, (3, 3), activation=\"relu\", input_shape=(150, 150, 3)),  # RGB\n",
    "            MaxPooling2D((2, 2)),\n",
    "            Conv2D(64, (3, 3), activation=\"relu\"),\n",
    "            MaxPooling2D((2, 2)),\n",
    "            Conv2D(128, (3, 3), activation=\"relu\"),\n",
    "            MaxPooling2D((2, 2)),\n",
    "            Flatten(),\n",
    "            Dense(128, activation=\"relu\"),\n",
    "            Dropout(0.5),  # Contre l’overfitting\n",
    "            Dense(1, activation=\"sigmoid\"),  # Binaire\n",
    "        ]\n",
    "    )\n",
    "    model.compile(optimizer=\"adam\", loss=\"binary_crossentropy\", metrics=[\"accuracy\"])\n",
    "    return model\n",
    "\n",
    "\n",
    "model = create_baseline_model()\n",
    "model.summary()"
   ]
  },
  {
   "cell_type": "code",
   "execution_count": 114,
   "id": "93836cdf",
   "metadata": {},
   "outputs": [
    {
     "name": "stderr",
     "output_type": "stream",
     "text": [
      "/home/hugo/miniconda3/envs/pneumonie/lib/python3.10/site-packages/keras/src/trainers/data_adapters/py_dataset_adapter.py:121: UserWarning: Your `PyDataset` class should call `super().__init__(**kwargs)` in its constructor. `**kwargs` can include `workers`, `use_multiprocessing`, `max_queue_size`. Do not pass these arguments to `fit()`, as they will be ignored.\n",
      "  self._warn_if_super_not_called()\n"
     ]
    },
    {
     "name": "stdout",
     "output_type": "stream",
     "text": [
      "Epoch 1/10\n",
      "\u001b[1m163/163\u001b[0m \u001b[32m━━━━━━━━━━━━━━━━━━━━\u001b[0m\u001b[37m\u001b[0m \u001b[1m35s\u001b[0m 203ms/step - accuracy: 0.7693 - loss: 24.3750 - val_accuracy: 0.8750 - val_loss: 0.3368\n",
      "Epoch 2/10\n",
      "\u001b[1m163/163\u001b[0m \u001b[32m━━━━━━━━━━━━━━━━━━━━\u001b[0m\u001b[37m\u001b[0m \u001b[1m26s\u001b[0m 157ms/step - accuracy: 0.9436 - loss: 0.1651 - val_accuracy: 0.6875 - val_loss: 0.4676\n",
      "Epoch 3/10\n",
      "\u001b[1m163/163\u001b[0m \u001b[32m━━━━━━━━━━━━━━━━━━━━\u001b[0m\u001b[37m\u001b[0m \u001b[1m1378s\u001b[0m 9s/step - accuracy: 0.9542 - loss: 0.1256 - val_accuracy: 0.6875 - val_loss: 0.7434\n",
      "Epoch 4/10\n",
      "\u001b[1m163/163\u001b[0m \u001b[32m━━━━━━━━━━━━━━━━━━━━\u001b[0m\u001b[37m\u001b[0m \u001b[1m29s\u001b[0m 177ms/step - accuracy: 0.9651 - loss: 0.0932 - val_accuracy: 0.8750 - val_loss: 0.4702\n",
      "Epoch 5/10\n",
      "\u001b[1m163/163\u001b[0m \u001b[32m━━━━━━━━━━━━━━━━━━━━\u001b[0m\u001b[37m\u001b[0m \u001b[1m29s\u001b[0m 177ms/step - accuracy: 0.9686 - loss: 0.0828 - val_accuracy: 0.8125 - val_loss: 0.7259\n",
      "Epoch 6/10\n",
      "\u001b[1m163/163\u001b[0m \u001b[32m━━━━━━━━━━━━━━━━━━━━\u001b[0m\u001b[37m\u001b[0m \u001b[1m26s\u001b[0m 161ms/step - accuracy: 0.9731 - loss: 0.0701 - val_accuracy: 1.0000 - val_loss: 0.1215\n",
      "Epoch 7/10\n",
      "\u001b[1m163/163\u001b[0m \u001b[32m━━━━━━━━━━━━━━━━━━━━\u001b[0m\u001b[37m\u001b[0m \u001b[1m27s\u001b[0m 162ms/step - accuracy: 0.9796 - loss: 0.0614 - val_accuracy: 0.8750 - val_loss: 0.4251\n",
      "Epoch 8/10\n",
      "\u001b[1m163/163\u001b[0m \u001b[32m━━━━━━━━━━━━━━━━━━━━\u001b[0m\u001b[37m\u001b[0m \u001b[1m26s\u001b[0m 161ms/step - accuracy: 0.9803 - loss: 0.0532 - val_accuracy: 0.6875 - val_loss: 1.0650\n",
      "Epoch 9/10\n",
      "\u001b[1m163/163\u001b[0m \u001b[32m━━━━━━━━━━━━━━━━━━━━\u001b[0m\u001b[37m\u001b[0m \u001b[1m29s\u001b[0m 179ms/step - accuracy: 0.9826 - loss: 0.0543 - val_accuracy: 0.8750 - val_loss: 0.2071\n",
      "Epoch 10/10\n",
      "\u001b[1m163/163\u001b[0m \u001b[32m━━━━━━━━━━━━━━━━━━━━\u001b[0m\u001b[37m\u001b[0m \u001b[1m29s\u001b[0m 178ms/step - accuracy: 0.9777 - loss: 0.0636 - val_accuracy: 0.8125 - val_loss: 0.3283\n"
     ]
    },
    {
     "name": "stderr",
     "output_type": "stream",
     "text": [
      "WARNING:absl:You are saving your model as an HDF5 file via `model.save()` or `keras.saving.save_model(model)`. This file format is considered legacy. We recommend using instead the native Keras format, e.g. `model.save('my_model.keras')` or `keras.saving.save_model(model, 'my_model.keras')`. \n"
     ]
    }
   ],
   "source": [
    "EPOCHS = 10\n",
    "history = model.fit(\n",
    "    train_generator, epochs=EPOCHS, validation_data=val_generator, verbose=1\n",
    ")\n",
    "\n",
    "model.save(\"baseline_model_2classes_no_preprocessing.h5\")"
   ]
  },
  {
   "cell_type": "markdown",
   "id": "139b0c3a",
   "metadata": {},
   "source": [
    "## **C - Pré-traitement**"
   ]
  },
  {
   "cell_type": "markdown",
   "id": "c9f8b35f",
   "metadata": {},
   "source": [
    "Réduisons les dimensions des images et passons les en niveaux de gris."
   ]
  },
  {
   "cell_type": "code",
   "execution_count": null,
   "id": "11a43d80",
   "metadata": {},
   "outputs": [
    {
     "name": "stderr",
     "output_type": "stream",
     "text": [
      "2025-04-22 12:01:02.327829: I tensorflow/core/util/port.cc:153] oneDNN custom operations are on. You may see slightly different numerical results due to floating-point round-off errors from different computation orders. To turn them off, set the environment variable `TF_ENABLE_ONEDNN_OPTS=0`.\n",
      "2025-04-22 12:01:02.364431: I external/local_xla/xla/tsl/cuda/cudart_stub.cc:32] Could not find cuda drivers on your machine, GPU will not be used.\n",
      "2025-04-22 12:01:02.687983: I external/local_xla/xla/tsl/cuda/cudart_stub.cc:32] Could not find cuda drivers on your machine, GPU will not be used.\n",
      "2025-04-22 12:01:02.914926: E external/local_xla/xla/stream_executor/cuda/cuda_fft.cc:467] Unable to register cuFFT factory: Attempting to register factory for plugin cuFFT when one has already been registered\n",
      "WARNING: All log messages before absl::InitializeLog() is called are written to STDERR\n",
      "E0000 00:00:1745316063.102103    5122 cuda_dnn.cc:8579] Unable to register cuDNN factory: Attempting to register factory for plugin cuDNN when one has already been registered\n",
      "E0000 00:00:1745316063.152603    5122 cuda_blas.cc:1407] Unable to register cuBLAS factory: Attempting to register factory for plugin cuBLAS when one has already been registered\n",
      "W0000 00:00:1745316063.596301    5122 computation_placer.cc:177] computation placer already registered. Please check linkage and avoid linking the same target more than once.\n",
      "W0000 00:00:1745316063.596414    5122 computation_placer.cc:177] computation placer already registered. Please check linkage and avoid linking the same target more than once.\n",
      "W0000 00:00:1745316063.596418    5122 computation_placer.cc:177] computation placer already registered. Please check linkage and avoid linking the same target more than once.\n",
      "W0000 00:00:1745316063.596421    5122 computation_placer.cc:177] computation placer already registered. Please check linkage and avoid linking the same target more than once.\n",
      "2025-04-22 12:01:03.656500: I tensorflow/core/platform/cpu_feature_guard.cc:210] This TensorFlow binary is optimized to use available CPU instructions in performance-critical operations.\n",
      "To enable the following instructions: AVX2 AVX_VNNI FMA, in other operations, rebuild TensorFlow with the appropriate compiler flags.\n"
     ]
    },
    {
     "name": "stdout",
     "output_type": "stream",
     "text": [
      "Inspection du set d'entraînement:\n",
      "Directory: ./data/chest_Xray/train\n",
      "Nombre d'images chargées: 5216\n",
      "Tailles uniques: {(1612, 1774), (664, 952), (1396, 1804), (635, 925), (560, 1160), (1515, 1612), (720, 1112), (1048, 1472), (452, 803), (672, 1072), (347, 607), (1206, 1500), (624, 1144), (1672, 1824), (704, 1024), (883, 1255), (1056, 1592), (656, 984), (736, 1056), (849, 1262), (1368, 1678), (947, 1276), (584, 1224), (560, 1016), (2096, 2008), (688, 936), (672, 928), (1044, 1474), (1959, 2268), (616, 1176), (736, 1092), (624, 1000), (1056, 1448), (576, 960), (621, 1111), (1195, 1526), (1088, 1400), (1253, 1733), (632, 1120), (1040, 1360), (712, 1000), (552, 1240), (584, 1080), (1048, 1184), (944, 1472), (1592, 1836), (879, 1406), (560, 872), (536, 1152), (744, 952), (1237, 1608), (1244, 1504), (648, 1064), (1442, 1748), (568, 992), (808, 1202), (1000, 1552), (576, 816), (1145, 1790), (632, 976), (1040, 1216), (1283, 1840), (584, 936), (1558, 1816), (1424, 1736), (1677, 1916), (1743, 2090), (1489, 1716), (616, 888), (536, 1008), (289, 493), (1442, 1604), (1608, 1902), (1231, 1686), (1067, 1318), (1619, 1682), (1152, 1542), (632, 832), (472, 880), (584, 792), (984, 1320), (528, 1040), (1310, 1570), (1096, 1232), (882, 1272), (1480, 1752), (544, 984), (952, 1224), (1008, 1384), (1164, 1372), (528, 896), (856, 1256), (1550, 1816), (480, 856), (1627, 2036), (583, 832), (912, 1416), (1279, 1618), (1360, 1692), (432, 928), (1320, 1656), (751, 1090), (544, 840), (928, 1360), (848, 1288), (1008, 1240), (522, 858), (856, 1112), (1541, 1740), (1272, 1844), (959, 1384), (880, 1240), (752, 1320), (912, 1272), (1151, 1554), (864, 1232), (1858, 2090), (456, 912), (816, 1304), (848, 1144), (752, 1176), (906, 1234), (808, 1336), (760, 1296), (1013, 1476), (1376, 1528), (768, 1120), (440, 760), (867, 1242), (792, 1248), (832, 1284), (904, 1160), (776, 1240), (1438, 1588), (1770, 2098), (898, 1086), (808, 1192), (948, 1352), (888, 1072), (1341, 1692), (760, 1152), (1376, 1384), (704, 1400), (1327, 1528), (1272, 1592), (1179, 1364), (736, 1432), (1304, 1624), (664, 1184), (844, 1380), (824, 1136), (1156, 1646), (792, 1104), (776, 1096), (1302, 1700), (631, 778), (767, 1276), (276, 550), (680, 1128), (739, 1214), (760, 1008), (885, 1268), (1192, 1568), (1051, 1300), (1024, 1346), (664, 1040), (688, 1168), (1688, 2000), (1072, 1768), (800, 1080), (886, 1232), (172, 428), (624, 1232), (1345, 1554), (704, 1112), (656, 1072), (1214, 1708), (1576, 1944), (1088, 1632), (1388, 1744), (688, 1024), (360, 664), (1072, 1624), (1619, 2022), (720, 1056), (672, 1016), (1171, 1666), (576, 1048), (789, 1192), (656, 928), (1684, 1742), (1062, 1350), (1088, 1488), (1422, 1742), (1044, 1827), (1040, 1448), (712, 1088), (1006, 1306), (1785, 2090), (1553, 1704), (1096, 1608), (1117, 1402), (932, 1240), (616, 1120), (1049, 1496), (1210, 1450), (1056, 1392), (1495, 1848), (908, 1148), (600, 1032), (978, 1472), (632, 1064), (584, 1024), (851, 1288), (630, 911), (616, 976), (568, 936), (1056, 1248), (1662, 1732), (440, 750), (1080, 1376), (472, 968), (1854, 1902), (1758, 2114), (1511, 1828), (584, 880), (1377, 1748), (936, 1368), (608, 1008), (968, 1400), (840, 1480), (1569, 1918), (701, 1056), (1341, 1682), (1480, 1840), (820, 1156), (1059, 1438), (464, 1000), (472, 824), (984, 1264), (856, 1344), (1267, 1732), (480, 944), (1608, 1882), (1606, 2101), (912, 1504), (1448, 1664), (467, 745), (1352, 1776), (512, 896), (1044, 1431), (464, 856), (1024, 1336), (1121, 1534), (1387, 1770), (1128, 1430), (1083, 1242), (528, 840), (1006, 1404), (1032, 1542), (1133, 1508), (1240, 1720), (886, 1222), (1497, 2050), (552, 968), (809, 1384), (944, 1200), (1392, 1848), (1256, 1844), (1137, 1478), (464, 712), (1328, 1720), (896, 1272), (981, 1496), (848, 1232), (1336, 1544), (440, 763), (1237, 1156), (1280, 1792), (1400, 1708), (904, 1392), (1392, 1704), (880, 1184), (552, 824), (986, 1202), (1364, 1642), (456, 856), (543, 861), (1248, 1696), (1337, 1508), (1328, 1576), (848, 1088), (1280, 1648), (778, 1172), (392, 728), (1171, 1512), (904, 1248), (808, 1280), (1140, 1790), (760, 1240), (1615, 1754), (792, 1192), (232, 446), (664, 1272), (1750, 2064), (1744, 1904), (800, 1312), (2059, 1916), (1248, 1588), (1527, 1906), (1288, 1624), (760, 1096), (1105, 1688), (832, 1264), (998, 1562), (1216, 1784), (1229, 1574), (1040, 1824), (800, 1168), (1114, 1364), (784, 1080), (792, 904), (767, 1256), (688, 1112), (1200, 1632), (720, 1144), (353, 713), (672, 1104), (467, 735), (1325, 1812), (846, 1140), (951, 1342), (832, 976), (1752, 1736), (656, 1016), (874, 1238), (1505, 2273), (688, 968), (1445, 1850), (672, 960), (1527, 1474), (744, 1128), (1804, 2048), (1630, 2124), (751, 1024), (696, 1088), (704, 912), (529, 831), (656, 872), (728, 1040), (1380, 1720), (840, 1218), (712, 1032), (688, 824), (1231, 1597), (531, 877), (1096, 1552), (2399, 2342), (616, 1064), (696, 944), (568, 1024), (1402, 1744), (1208, 1384), (1080, 1464), (607, 1015), (600, 976), (1272, 1634), (712, 888), (584, 968), (984, 1496), (1992, 1960), (1175, 1472), (640, 1048), (1294, 1658), (592, 1008), (1032, 1280), (1310, 1782), (624, 960), (804, 1156), (936, 1312), (1523, 1746), (552, 1200), (261, 499), (1120, 1392), (1461, 1542), (1588, 1646), (1187, 1302), (944, 1432), (1426, 1584), (512, 984), (1024, 1424), (1383, 1622), (648, 1024), (1008, 1416), (863, 1098), (1544, 1576), (984, 1208), (552, 1056), (986, 1434), (864, 1408), (619, 966), (944, 1288), (512, 840), (1063, 1388), (536, 968), (1970, 2178), (648, 880), (520, 960), (1345, 2126), (2098, 2772), (1147, 1616), (1360, 1760), (552, 912), (864, 1264), (1777, 2048), (888, 1392), (1024, 1136), (1368, 1700), (976, 1096), (594, 765), (920, 1344), (1827, 2134), (898, 1442), (904, 1336), (1198, 1554), (810, 1329), (1669, 2222), (1044, 1496), (1666, 1808), (552, 768), (1368, 1736), (1016, 1168), (627, 1064), (1407, 1584), (1627, 1816), (1224, 1728), (792, 1280), (872, 1160), (1206, 1414), (1360, 1472), (164, 399), (1256, 1680), (1222, 1538), (856, 1072), (888, 1104), (515, 742), (1106, 1592), (760, 1184), (1078, 1530), (920, 1056), (792, 1136), (758, 994), (1156, 1678), (1256, 1536), (1136, 1736), (912, 1088), (178, 455), (784, 1168), (1224, 1440), (1785, 1736), (1164, 1538), (1865, 1994), (1383, 1576), (816, 1120), (768, 1080), (1102, 1334), (672, 1192), (586, 923), (966, 1144), (1164, 1574), (1156, 1570), (674, 1152), (656, 1104), (728, 1272), (1088, 1664), (1296, 1464), (712, 1264), (1200, 1576), (1608, 1816), (768, 936), (688, 1056), (731, 1134), (744, 1216), (696, 1176), (1208, 1616), (656, 960), (728, 1128), (1302, 1480), (1747, 2010), (1773, 2148), (1066, 1532), (747, 998), (1553, 1736), (1424, 2000), (744, 1072), (616, 1152), (1514, 2302), (696, 1032), (568, 1112), (1368, 1690), (1080, 1552), (600, 1064), (1032, 1512), (712, 976), (578, 896), (736, 1104), (603, 840), (1155, 1582), (1145, 1272), (709, 1236), (282, 525), (568, 968), (1368, 1546), (1187, 1534), (1048, 1376), (1194, 1430), (592, 1096), (766, 1132), (1032, 1368), (1072, 1404), (600, 920), (2067, 2078), (958, 1302), (1302, 1866), (1171, 1446), (631, 944), (2016, 2032), (640, 992), (1909, 1906), (592, 952), (1785, 1870), (976, 1472), (1191, 1360), (624, 904), (648, 1112), (520, 1192), (576, 864), (835, 1353), (1402, 1580), (880, 1504), (1268, 1500), (960, 1384), (992, 1416), (1106, 1438), (1072, 1296), (640, 848), (1145, 1658), (2663, 2373), (1144, 1550), (990, 1492), (1237, 1512), (1090, 1350), (1383, 1566), (936, 1292), (976, 1328), (615, 791), (648, 968), (1488, 1768), (848, 1408), (674, 1106), (1735, 1874), (1766, 1978), (960, 1240), (632, 880), (992, 1272), (1604, 1836), (536, 912), (1330, 1596), (848, 1264), (901, 1190), (1480, 1620), (880, 1216), (413, 698), (960, 1096), (904, 1424), (504, 816), (800, 1632), (2418, 2434), (683, 967), (888, 1336), (1016, 1256), (1005, 1512), (1000, 1168), (199, 445), (904, 1280), (1804, 1982), (1545, 1642), (856, 1160), (528, 800), (1249, 1500), (888, 1192), (760, 1272), (1534, 1712), (840, 1152), (1673, 2056), (1272, 1712), (1400, 1632), (1433, 1666), (1352, 1592), (1383, 1808), (932, 1118), (970, 1410), (816, 1352), (1806, 1911), (1256, 1624), (928, 1264), (1336, 1504), (356, 693), (809, 1164), (888, 1048), (1140, 1449), (832, 1296), (784, 1256), (1272, 1568), (1216, 1816), (1226, 2126), (768, 1168), (1256, 1480), (1076, 1284), (1341, 1704), (800, 1200), (1221, 1522), (1928, 2138), (1588, 1724), (2304, 2160), (1264, 1600), (752, 1080), (832, 1152), (1240, 1392), (1383, 1700), (784, 1112), (1187, 1874), (805, 1580), (1634, 1956), (688, 1144), (816, 1064), (1256, 1336), (893, 1284), (744, 1304), (824, 1184), (523, 927), (1264, 1456), (1523, 1716), (728, 1216), (496, 830), (889, 1170), (1296, 1408), (808, 1096), (1168, 1488), (603, 1072), (664, 1088), (744, 1160), (824, 1040), (1348, 1720), (1194, 1662), (1468, 1636), (728, 1072), (680, 1032), (1913, 2252), (1605, 1870), (1192, 1472), (1064, 1552), (736, 1192), (751, 1092), (1623, 1924), (1167, 1644), (1048, 1464), (1208, 1416), (1194, 1518), (680, 1040), (1032, 1456), (805, 1148), (1112, 1448), (1192, 1328), (736, 1048), (936, 1488), (902, 1346), (1522, 1728), (1576, 1848), (1021, 1446), (1120, 1568), (1260, 1728), (720, 1189), (944, 1608), (1048, 1320), (1080, 1352), (672, 920), (519, 790), (1592, 1792), (624, 992), (1504, 1716), (1878, 2006), (1043, 1470), (1956, 2334), (576, 952), (608, 984), (573, 1026), (632, 1112), (960, 1472), (992, 1504), (640, 936), (944, 1464), (1072, 1384), (560, 864), (1298, 1696), (1511, 1840), (464, 747), (563, 869), (1592, 1648), (624, 848), (496, 928), (2431, 2340), (2628, 2619), (880, 1448), (632, 968), (1144, 1674), (584, 928), (1024, 1492), (1072, 1240), (944, 1320), (592, 752), (536, 1000), (840, 1528), (520, 992), (920, 1520), (948, 1210), (872, 1480), (1488, 1712), (940, 1206), (1144, 1530), (798, 1122), (1344, 1704), (968, 1304), (536, 856), (801, 1276), (1074, 1434), (1233, 1458), (1533, 1985), (1090, 1824), (1654, 1866), (544, 976), (856, 1248), (569, 889), (674, 942), (840, 1240), (1048, 1418), (1647, 2006), (999, 1376), (1546, 1774), (1959, 2358), (1245, 1554), (872, 1192), (1352, 1680), (1364, 1654), (1538, 1690), (768, 1400), (1256, 1712), (800, 1432), (1248, 1708), (1221, 1754), (1202, 1512), (1422, 1744), (955, 1226), (1428, 1675), (1333, 1666), (1344, 1416), (448, 635), (1801, 1920), (784, 1344), (1171, 1524), (1432, 1416), (1453, 1588), (1666, 1732), (1299, 1530), (872, 1048), (816, 1296), (768, 1256), (1256, 1568), (800, 1288), (1456, 1364), (2321, 2566), (824, 1416), (1392, 1608), (752, 1168), (784, 1200), (1078, 1418), (1404, 1582), (1276, 1662), (618, 759), (816, 1152), (768, 1112), (2036, 2024), (812, 1298), (993, 1230), (1059, 1404), (1306, 1690), (824, 1272), (776, 1232), (1136, 1624), (784, 1056), (1160, 1752), (808, 1184), (1488, 1846), (1417, 2051), (1091, 1472), (1638, 1870), (1225, 1472), (763, 1298), (1310, 1696), (1345, 1654), (776, 1088), (1302, 1692), (821, 1468), (1110, 1342), (1208, 1648), (1229, 1442), (696, 1208), (1160, 1608), (680, 1120), (760, 1000), (736, 1280), (776, 944), (1496, 1642), (1176, 1472), (592, 1272), (2104, 2056), (680, 976), (1719, 1836), (1692, 1882), (704, 1104), (1137, 1480), (664, 888), (1036, 1434), (1190, 1492), (1120, 1656), (708, 1074), (840, 1230), (1275, 1450), (560, 1096), (1208, 1360), (640, 1168), (427, 795), (1032, 1400), (1592, 1880), (1056, 1528), (576, 1040), (1296, 1738), (736, 992), (1088, 1480), (2363, 2288), (515, 764), (560, 952), (1434, 1708), (592, 984), (672, 864), (890, 1352), (1291, 1516), (624, 936), (1171, 1334), (2364, 2518), (576, 896), (476, 809), (462, 645), (1094, 1496), (1487, 1836), (960, 1416), (632, 1056), (1120, 1368), (1040, 1296), (1433, 1636), (584, 1016), (536, 1088), (568, 928), (576, 752), (600, 880), (1565, 2020), (1088, 1192), (584, 872), (1345, 1608), (1914, 1679), (856, 1480), (1016, 1432), (1264, 1534), (968, 1392), (616, 824), (1094, 1388), (585, 1102), (544, 1064), (1518, 1944), (1105, 1546), (704, 1202), (844, 1362), (354, 415), (1739, 1912), (832, 1122), (1129, 1574), (984, 1256), (1415, 1708), (1754, 1928), (488, 760), (940, 1186), (1527, 1620), (1245, 1642), (1920, 1960), (544, 920), (872, 1280), (1105, 1402), (1256, 1800), (1310, 1542), (1464, 1600), (928, 1440), (1336, 1680), (1008, 1320), (1109, 1372), (856, 1192), (528, 832), (1160, 1454), (1399, 1736), (1078, 1650), (864, 1312), (684, 936), (1024, 1184), (896, 1264), (848, 1224), (928, 1296), (1321, 1636), (856, 1048), (2121, 2400), (752, 1256), (1206, 1426), (784, 1288), (864, 1168), (992, 1088), (1296, 1728), (875, 1326), (2411, 2318), (1422, 1724), (1175, 1438), (793, 1144), (1152, 1720), (904, 1240), (776, 1320), (1136, 1712), (436, 726), (808, 1272), (680, 1352), (768, 1056), (1632, 2064), (1499, 1800), (792, 1184), (824, 1216), (696, 1296), (1232, 1456), (776, 1176), (752, 968), (1288, 1616), (808, 1128), (1206, 1812), (1087, 1446), (760, 1088), (1418, 1582), (1484, 1756), (1304, 1560), (1329, 1882), (383, 692), (591, 870), (727, 1176), (680, 1064), (1974, 2214), (280, 456), (736, 1224), (1433, 1338), (664, 976), (1229, 1422), (1176, 1416), (1028, 1252), (1194, 1550), (1480, 1678), (800, 1016), (672, 1096), (1110, 1816), (924, 1460), (832, 968), (704, 1048), (1175, 1716), (656, 1008), (736, 1080), (1187, 1690), (1020, 1284), (1395, 1576), (560, 1040), (1073, 1525), (688, 960), (672, 952), (744, 1120), (1399, 1546), (1265, 1466), (704, 904), (576, 984), (1097, 1244), (1141, 1430), (488, 871), (1216, 1344), (632, 1144), (473, 742), (1106, 1558), (712, 1024), (560, 896), (1072, 1416), (1793, 1850), (1198, 1412), (963, 1280), (616, 1056), (1096, 1544), (744, 976), (600, 968), (1088, 1280), (632, 1000), (1661, 1816), (984, 1488), (630, 1076), (1171, 1314), (1669, 1936), (1442, 1628), (1000, 1432), (872, 1512), (1106, 1450), (1221, 1400), (472, 904), (685, 1048), (905, 1280), (292, 708), (584, 816), (1028, 1530), (936, 1304), (608, 944), (480, 1024), (1160, 1686), (512, 976), (1152, 1422), (1306, 1480), (844, 1306), (998, 1364), (1110, 1276), (1510, 1804), (528, 920), (856, 1280), (1229, 1376), (608, 800), (936, 1160), (967, 1376), (912, 1440), (992, 1320), (512, 832), (910, 1516), (816, 1472), (848, 1312), (520, 952), (978, 1650), (904, 1472), (480, 736), (552, 904), (880, 1264), (553, 869), (1320, 1536), (1654, 1790), (864, 1256), (736, 1070), (990, 1252), (1337, 1588), (896, 1208), (768, 1288), (848, 1168), (2476, 2572), (1032, 1514), (1226, 1608), (1534, 1724), (880, 1120), (752, 1200), (1437, 1828), (1138, 1644), (544, 756), (1001, 1526), (782, 1222), (1167, 1558), (896, 1064), (1447, 1841), (554, 806), (792, 1272), (824, 1304), (244, 500), (752, 1056), (1210, 1376), (1337, 1480), (1017, 1210), (1288, 1704), (867, 1302), (760, 1176), (1167, 1414), (485, 828), (792, 1128), (1472, 1790), (238, 462), (776, 1120), (1176, 1648), (1160, 1640), (1133, 1686), (927, 1438), (1279, 1740), (619, 1056), (885, 1292), (1457, 2012), (1144, 1552), (1244, 1410), (1074, 1636), (496, 842), (688, 1192), (720, 1224), (709, 986), (1288, 1416), (1140, 1438), (976, 1824), (1104, 1744), (1171, 1654), (704, 1136), (844, 1296), (656, 1096), (600, 1344), (1088, 1656), (1259, 1654), (720, 1080), (1256, 1240), (1093, 1362), (1056, 1560), (704, 992), (576, 1072), (1088, 1512), (499, 968), (1179, 1630), (1627, 1906), (560, 984), (712, 1112), (1206, 1504), (1352, 1558), (1017, 1488), (1437, 1782), (1361, 2052), (696, 1024), (1056, 1416), (704, 848), (1422, 1802), (1000, 1664), (1623, 1792), (1080, 1544), (728, 976), (1040, 1328), (584, 1048), (1360, 1418), (968, 1568), (744, 920), (503, 714), (640, 1128), (1080, 1400), (1746, 2164), (1272, 1570), (712, 824), (584, 904), (1496, 1952), (1040, 1184), (219, 546), (936, 1392), (1075, 1550), (1082, 1446), (968, 1424), (568, 816), (334, 649), (512, 1064), (1353, 1680), (1032, 1216), (2025, 2338), (425, 687), (2325, 2450), (848, 1544), (624, 896), (1330, 1696), (984, 1288), (528, 1008), (936, 1248), (1403, 1766), (608, 888), (1008, 1496), (967, 1464), (1120, 1328), (1414, 1546), (992, 1408), (512, 920), (1152, 1546), (944, 1368), (464, 880), (1024, 1360), (896, 1440), (1318, 1578), (976, 1320), (520, 1040), (880, 1352), (552, 992), (912, 1384), (177, 557), (1072, 1144), (1231, 1546), (1864, 2096), (878, 1284), (896, 1296), (536, 904), (1044, 1805), (904, 1416), (1897, 2538), (552, 848), (825, 1272), (2102, 1924), (1392, 1728), (864, 1200), (888, 1328), (2272, 2192), (920, 1280), (1018, 1294), (880, 1064), (1532, 1744), (392, 752), (1422, 1792), (760, 1264), (840, 1144), (1947, 2022), (920, 1136), (792, 1216), (1236, 1638), (776, 1208), (970, 1222), (454, 699), (1484, 1968), (784, 1248), (1272, 1560), (1044, 1553), (816, 1200), (800, 1192), (1768, 1912), (832, 1144), (1472, 1770), (704, 1224), (978, 1198), (1391, 1782), (656, 1184), (1152, 1500), (1229, 1454), (712, 1344), (688, 1136), (1200, 1656), (768, 1016), (1176, 1448), (1128, 1408), (739, 1218), (731, 1214), (785, 1334), (1974, 2102), (1312, 1488), (696, 1256), (1692, 1858), (789, 1304), (656, 1040), (437, 736), (728, 1208), (329, 645), (1088, 1600), (704, 851), (1233, 1460), (1200, 1512), (1920, 2018), (744, 1152), (824, 1032), (1222, 1716), (1056, 1504), (1184, 1424), (568, 1192), (1576, 1948), (656, 896), (1101, 1426), (1179, 1754), (600, 1144), (993, 1484), (680, 1024), (1069, 1214), (1561, 1676), (151, 494), (616, 1088), (1152, 1248), (696, 968), (1183, 1464), (1380, 1600), (1499, 1966), (680, 880), (1052, 1426), (600, 1000), (712, 912), (1112, 1440), (984, 1520), (1032, 1448), (1010, 1658), (736, 1040), (1151, 1368), (475, 856), (1008, 1728), (568, 904), (1248, 1566), (1067, 1554), (640, 1072), (512, 1152), (1059, 1550), (592, 1032), (167, 480), (366, 689), (624, 984), (1797, 1924), (936, 1336), (608, 976), (609, 941), (421, 741), (912, 1616), (1341, 1650), (640, 928), (1487, 1704), (1500, 1786), (512, 1008), (1118, 1492), (1032, 1160), (1104, 1328), (976, 1408), (648, 1048), (163, 482), (496, 920), (1008, 1440), (1356, 1778), (1121, 1646), (520, 1128), (964, 1928), (1020, 1414), (1248, 1458), (552, 1080), (480, 912), (960, 1320), (504, 1040), (992, 1352), (1286, 1570), (1932, 2090), (1024, 1304), (1164, 1464), (1310, 1518), (1020, 1450), (648, 904), (520, 984), (447, 771), (848, 1344), (1341, 1542), (1595, 1687), (1133, 1476), (752, 1376), (960, 1176), (1279, 1530), (552, 936), (373, 705), (1499, 1570), (944, 1168), (504, 896), (2438, 2721), (888, 1416), (670, 928), (1302, 1550), (1148, 1492), (488, 808), (1024, 1160), (832, 1664), (587, 930), (207, 529), (1066, 1422), (544, 968), (872, 1328), (624, 1226), (1367, 1944), (521, 841), (1982, 2068), (1356, 1526), (1900, 2264), (1840, 1984), (416, 904), (2175, 1974), (816, 1432), (1256, 1704), (915, 1411), (1183, 1454), (1136, 1230), (913, 1450), (832, 1376), (1225, 1716), (840, 1088), (784, 1336), (1044, 1412), (920, 1080), (816, 1288), (1411, 1434), (1804, 1774), (1256, 1560), (928, 1200), (1943, 1852), (832, 1232), (1086, 1414), (1619, 1728), (1519, 1790), (1430, 1712), (1503, 1782), (1090, 1384), (688, 1224), (1295, 1524), (1055, 1426), (1200, 1744), (1368, 1328), (1058, 1431), (2226, 2442), (978, 1322), (751, 1280), (491, 795), (728, 1296), (680, 1256), (959, 1574), (816, 1000), (712, 1288), (688, 1080), (1267, 1690), (800, 992), (744, 1240), (1391, 1762), (951, 1310), (1264, 1392), (728, 1152), (1032, 1680), (1389, 1572), (680, 1112), (1216, 1464), (1168, 1424), (720, 1148), (1392, 1806), (1064, 1632), (1640, 1828), (736, 1272), (1632, 1824), (1096, 1664), (664, 1024), (744, 1096), (1175, 1728), (850, 1114), (696, 1056), (776, 936), (1136, 1328), (1536, 1856), (1627, 1974), (1160, 1456), (728, 1008), (1066, 1412), (1253, 1504), (1112, 1528), (1630, 2128), (736, 1128), (971, 1260), (1029, 1530), (1136, 1364), (1190, 1484), (1097, 1256), (1120, 1648), (255, 532), (1448, 2008), (1729, 1878), (720, 1040), (592, 1120), (1735, 1692), (624, 1072), (1044, 1366), (576, 1032), (855, 1350), (640, 1016), (1080, 1288), (1179, 1410), (1104, 1416), (976, 1496), (648, 1136), (624, 928), (2625, 2694), (1017, 1268), (576, 888), (883, 1268), (848, 1576), (608, 920), (1094, 1488), (1287, 1766), (960, 1408), (632, 1048), (992, 1440), (1345, 1744), (1016, 1568), (592, 832), (1109, 1616), (520, 1072), (552, 1024), (504, 984), (1746, 1944), (584, 864), (1016, 1424), (616, 816), (488, 896), (648, 848), (520, 928), (747, 1156), (544, 1056), (392, 928), (1325, 1770), (552, 880), (504, 840), (1056, 1582), (1337, 1744), (856, 1328), (1016, 1280), (1855, 2344), (888, 1360), (968, 1240), (840, 1320), (920, 1312), (1352, 1760), (206, 508), (872, 1272), (544, 912), (1924, 2480), (1603, 2016), (1384, 1712), (472, 664), (821, 1306), (856, 1184), (528, 824), (912, 1344), (1352, 1616), (1224, 1696), (770, 1260), (604, 1048), (211, 479), (1070, 1372), (782, 1234), (768, 1336), (463, 700), (856, 1040), (1555, 1944), (1955, 2180), (840, 1032), (784, 1280), (557, 972), (1197, 1598), (1224, 1552), (816, 1232), (440, 832), (928, 1144), (1306, 1770), (824, 1352), (1152, 1712), (1205, 1538), (1418, 1682), (752, 1104), (1392, 1544), (784, 1136), (1078, 1354), (1264, 1624), (614, 990), (768, 1048), (793, 1221), (1280, 1488), (1152, 1568), (824, 1208), (776, 1168), (603, 831), (1083, 1468), (1557, 1882), (1090, 1364), (784, 992), (728, 1240), (808, 1120), (1102, 1338), (1642, 1840), (680, 1200), (712, 1232), (260, 577), (459, 823), (1152, 1424), (1464, 1690), (696, 1144), (776, 1024), (708, 1118), (2184, 2016), (500, 860), (680, 1056), (1908, 1932), (760, 936), (1372, 1692), (1526, 1750), (736, 1216), (1064, 1576), (664, 968), (844, 1164), (1041, 1592), (1048, 1488), (720, 1128), (1080, 1520), (813, 1176), (1728, 1592), (898, 1400), (1291, 1740), (736, 1072), (1144, 1312), (1120, 1592), (1554, 1970), (441, 666), (592, 1064), (240, 496), (672, 944), (325, 720), (1866, 2056), (1104, 1504), (1056, 1464), (624, 1016), (1437, 1650), (576, 976), (1461, 1778), (1368, 1550), (1088, 1416), (1448, 1808), (793, 1090), (1528, 1688), (560, 888), (1460, 1782), (1044, 1346), (1176, 1794), (929, 1508), (616, 1048), (976, 1440), (648, 1080), (1056, 1320), (808, 1218), (1936, 2156), (960, 1352), (632, 992), (504, 1072), (584, 952), (1072, 1264), (968, 1472), (840, 1552), (648, 936), (1044, 1467), (504, 928), (632, 848), (458, 732), (1496, 1856), (856, 1416), (888, 1448), (828, 1168), (968, 1328), (536, 880), (488, 840), (1074, 1458), (544, 1000), (952, 1240), (1384, 1800), (984, 1192), (528, 912), (1380, 1766), (840, 1264), (1128, 1322), (864, 1392), (1506, 1762), (512, 824), (872, 1216), (544, 856), (1611, 1964), (897, 1160), (789, 1218), (1148, 1416), (368, 816), (752, 1336), (2169, 1962), (1240, 1648), (816, 1320), (1736, 2080), (768, 1280), (1942, 2185), (994, 1214), (1893, 2292), (752, 1192), (1005, 1372), (763, 1430), (784, 1224), (570, 886), (816, 1176), (896, 1056), (768, 1136), (848, 1016), (1554, 1816), (1012, 1496), (824, 1296), (776, 1256), (752, 1048), (808, 1208), (760, 1168), (1133, 1642), (768, 992), (618, 1084), (1032, 1218), (1304, 1640), (1152, 1512), (1232, 1392), (411, 754), (1264, 1424), (230, 450), (1314, 1690), (168, 438), (728, 1184), (1353, 1538), (736, 1304), (1304, 1496), (664, 1056), (1156, 1518), (720, 1216), (507, 843), (1314, 1546), (808, 920), (2074, 2088), (966, 1128), (680, 1000), (704, 1128), (1600, 1680), (736, 1160), (1222, 1728), (1109, 1442), (1905, 1870), (1200, 1560), (1801, 2078), (900, 1268), (720, 1072), (493, 801), (800, 952), (648, 1312), (1544, 1864), (1465, 1720), (576, 1064), (736, 1016), (990, 1198), (1440, 2072), (664, 1176), (656, 944), (632, 1224), (1120, 1536), (560, 976), (944, 1576), (720, 928), (672, 888), (932, 1256), (2067, 2844), (1270, 1746), (1442, 1852), (648, 1168), (1056, 1408), (576, 920), (1410, 1640), (1241, 1682), (1059, 1562), (632, 1080), (1040, 1320), (712, 960), (1072, 1352), (1493, 1674), (1052, 1294), (616, 992), (2519, 2564), (568, 952), (821, 1132), (1029, 1310), (307, 502), (1419, 1990), (1167, 1360), (1067, 1422), (600, 904), (2086, 2304), (632, 936), (1059, 1418), (1665, 1902), (584, 896), (771, 1280), (1229, 1600), (1082, 1438), (1302, 1670), (322, 667), (616, 848), (1248, 1470), (1855, 1882), (658, 1110), (1051, 1450), (952, 1328), (179, 438), (544, 1088), (577, 856), (984, 1280), (1010, 1418), (856, 1360), (528, 1000), (1395, 1754), (840, 1352), (496, 788), (1079, 1368), (1432, 1672), (1000, 1224), (872, 1304), (684, 1104), (604, 995), (797, 1310), (329, 647), (655, 1226), (856, 1216), (528, 856), (480, 816), (880, 1344), (864, 1336), (931, 1246), (464, 728), (896, 1288), (768, 1368), (1542, 1808), (848, 1248), (1395, 1646), (1008, 1200), (1510, 1596), (1280, 1808), (752, 1280), (1291, 1674), (864, 1192), (435, 929), (1361, 1998), (2059, 2040), (1040, 1496), (896, 1144), (768, 1224), (1328, 1592), (848, 1104), (792, 1352), (904, 1264), (1264, 1656), (1712, 1932), (1465, 1566), (1495, 1854), (896, 1000), (1353, 1770), (1653, 1882), (824, 1240), (904, 1120), (1276, 1666), (752, 992), (1356, 1924), (516, 895), (1229, 1554), (680, 1232), (888, 1032), (944, 1458), (1144, 1632), (1786, 2002), (792, 1064), (776, 1056), (543, 854), (800, 1184), (672, 1264), (808, 1008), (1260, 1434), (1158, 1386), (736, 1248), (1144, 1488), (1216, 1656), (1136, 1484), (664, 1000), (449, 697), (528, 990), (688, 1128), (1360, 1786), (1113, 1500), (1160, 1432), (2047, 2078), (832, 992), (635, 1238), (656, 1032), (697, 1033), (1670, 1948), (1743, 1932), (1216, 1512), (676, 1010), (712, 1192), (688, 984), (560, 1064), (1200, 1504), (1541, 1654), (720, 1016), (959, 1298), (672, 976), (1052, 1526), (1072, 1584), (986, 1172), (1893, 1876), (1104, 1536), (1184, 1416), (444, 852), (1295, 1778), (2169, 2534), (576, 1008), (307, 734), (928, 1310), (1915, 2309), (704, 928), (469, 796), (1228, 1608), (1404, 2093), (656, 888), (560, 920), (672, 832), (1096, 1568), (744, 1000), (1591, 1776), (1584, 1880), (696, 960), (196, 494), (902, 1294), (952, 1560), (600, 992), (632, 1024), (1353, 1724), (712, 904), (584, 984), (378, 650), (317, 640), (1156, 1704), (1130, 1566), (968, 1504), (1429, 1862), (616, 936), (1241, 1662), (774, 1144), (568, 896), (640, 1064), (1080, 1336), (600, 848), (585, 985), (1225, 1574), (584, 840), (984, 1368), (856, 1448), (1064, 1248), (409, 759), (608, 968), (936, 1328), (529, 824), (968, 1360), (1654, 2102), (640, 920), (1854, 1898), (1432, 1760), (464, 960), (952, 1272), (1032, 1152), (1164, 1600), (1970, 2338), (844, 1330), (1156, 1596), (1008, 1432), (1148, 1592), (608, 824), (1133, 1612), (2570, 2482), (1140, 1508), (552, 1072), (1774, 1874), (1117, 1604), (2374, 2427), (571, 942), (512, 856), (1905, 1948), (848, 1336), (976, 1256), (1008, 1288), (1167, 1690), (1416, 1528), (984, 1080), (1253, 1650), (880, 1288), (979, 1410), (552, 928), (1761, 1940), (539, 846), (504, 888), (258, 567), (2085, 2180), (536, 840), (1328, 1680), (440, 952), (520, 832), (792, 1440), (1434, 1810), (813, 1234), (864, 1136), (808, 1384), (928, 1300), (888, 1264), (456, 816), (1376, 1576), (920, 1216), (1866, 2114), (1291, 1654), (1738, 1928), (1171, 1472), (1357, 1828), (1044, 1368), (1163, 1468), (776, 1288), (970, 1302), (1029, 1388), (144, 437), (1752, 1896), (1021, 1384), (840, 1080), (1944, 1624), (848, 904), (2260, 2418), (792, 1152), (1229, 1678), (904, 1064), (1704, 1828), (1507, 1808), (760, 1056), (1013, 1236), (1041, 1218), (1191, 1422), (1144, 1576), (1129, 1676), (1712, 1768), (1476, 1820), (936, 1318), (1176, 1528), (1963, 2024), (1241, 1508), (672, 1208), (1178, 1754), (1140, 1462), (1290, 1666), (1240, 1320), (656, 1120), (1333, 1856), (816, 992), (1200, 1592), (688, 1072), (712, 1280), (1128, 1344), (672, 1064), (744, 1232), (696, 1192), (1603, 1982), (704, 1016), (656, 976), (1395, 1724), (1878, 1692), (882, 1202), (874, 1198), (805, 1364), (740, 1118), (1074, 1372), (1079, 1338), (1313, 1654), (1086, 1612), (560, 1008), (688, 928), (1130, 1798), (724, 1110), (712, 1136), (1152, 1328), (1178, 1466), (696, 1048), (568, 1128), (728, 1000), (600, 1080), (1754, 1778), (712, 992), (584, 1072), (984, 1600), (1399, 1550), (744, 944), (616, 1024), (568, 984), (992, 1720), (1221, 1692), (1414, 1678), (1106, 1562), (1499, 1902), (600, 936), (890, 1300), (1496, 1976), (1785, 1850), (1064, 1336), (736, 976), (1383, 1690), (1020, 1638), (1001, 1396), (662, 1176), (856, 1536), (1882, 2048), (640, 1008), (1048, 1248), (1560, 1768), (952, 1360), (1024, 1528), (496, 1000), (528, 1032), (936, 1272), (1334, 1690), (986, 1538), (940, 1242), (640, 864), (1059, 1342), (464, 904), (717, 1084), (1024, 1384), (955, 1550), (648, 984), (496, 856), (1322, 1572), (552, 1016), (960, 1256), (1612, 1936), (504, 976), (1120, 1208), (1210, 1776), (1072, 1168), (1565, 1824), (512, 800), (670, 1008), (944, 1248), (1851, 2348), (896, 1320), (848, 1280), (520, 920), (1688, 1894), (1148, 1392), (994, 1334), (1380, 1778), (542, 679), (1928, 1912), (752, 1312), (880, 1232), (1218, 1636), (504, 832), (552, 872), (1283, 1616), (808, 1472), (840, 1312), (408, 864), (2534, 2890), (1542, 1696), (1408, 1616), (792, 1384), (1453, 1804), (904, 1296), (1137, 1418), (1337, 1592), (1989, 2272), (1136, 1310), (1728, 2088), (763, 948), (1182, 1426), (968, 1088), (760, 1288), (1588, 1848), (1619, 1952), (840, 1168), (959, 1268), (200, 462), (1072, 1554), (920, 1160), (792, 1240), (872, 1120), (1078, 1454), (1037, 1416), (809, 1180), (770, 1072), (1128, 1720), (448, 792), (856, 1032), (760, 1144), (1627, 1812), (832, 1312), (784, 1272), (1476, 1908), (1049, 1426), (816, 1224), (1802, 1929), (621, 985), (800, 1216), (2129, 2144), (832, 1168), (1604, 2179), (656, 1208), (1224, 1400), (1128, 1432), (800, 1072), (672, 1152), (784, 984), (656, 1064), (728, 1232), (1087, 1430), (507, 855), (712, 1224), (1736, 1696), (852, 1384), (1294, 1500), (744, 1176), (951, 1246), (955, 1396), (1536, 1936), (656, 920), (728, 1088), (1216, 1400), (1435, 1704), (680, 1048), (1040, 1440), (712, 1080), (1607, 1816), (1279, 1456), (1552, 1880), (664, 960), (744, 1032), (568, 1072), (1421, 1805), (1006, 1334), (534, 850), (600, 1024), (2234, 2359), (1425, 1546), (1437, 1786), (851, 1280), (736, 1064), (936, 1504), (640, 1096), (720, 976), (592, 1056), (1024, 1616), (1399, 1530), (624, 1008), (531, 817), (537, 711), (576, 968), (2032, 2080), (736, 920), (936, 1360), (608, 1000), (1080, 1633), (1159, 1697), (1072, 1400), (640, 952), (1379, 1700), (464, 992), (1333, 1404), (1024, 1472), (1075, 1554), (648, 1072), (496, 944), (936, 1216), (608, 856), (294, 580), (574, 863), (1120, 1296), (504, 1064), (1072, 1256), (1560, 1568), (1152, 1514), (1600, 1790), (1650, 2136), (944, 1336), (1016, 1504), (1024, 1328), (1104, 1208), (1168, 1638), (976, 1288), (520, 1008), (1128, 1422), (1480, 1724), (960, 1200), (1025, 1180), (1283, 1704), (743, 1202), (1016, 1360), (536, 872), (562, 1010), (840, 1400), (520, 864), (842, 1064), (920, 1392), (441, 720), (519, 819), (544, 992), (1634, 1638), (1440, 1544), (219, 527), (960, 1056), (517, 895), (678, 812), (856, 1264), (1422, 1904), (1403, 1662), (1777, 1952), (1310, 1434), (888, 1296), (1534, 1816), (1121, 1418), (1615, 1890), (840, 1256), (1014, 1292), (1234, 1704), (1287, 1450), (792, 1328), (544, 848), (1518, 1728), (1171, 1504), (928, 1368), (1136, 1480), (1248, 1724), (1155, 1496), (2543, 2510), (1395, 1514), (639, 1122), (1647, 1878), (978, 1454), (784, 1360), (279, 550), (825, 1132), (1399, 1484), (816, 1312), (863, 1244), (1295, 1692), (1175, 1510), (928, 1224), (800, 1304), (229, 549), (1141, 1368), (955, 1098), (786, 1140), (1507, 1840), (1312, 1744), (1473, 1698), (912, 1136), (1052, 1296), (1063, 1534), (851, 1126), (1090, 1408), (1656, 2048), (816, 1168), (688, 1248), (901, 1392), (768, 1128), (800, 1160), (974, 1196), (1854, 1920), (824, 1288), (1392, 1480), (752, 1040), (832, 1112), (217, 467), (1561, 1932), (1480, 1858), (816, 1024), (712, 1312), (1021, 1164), (1140, 1530), (1152, 1504), (1059, 1276), (824, 1144), (250, 500), (776, 1104), (1312, 1456), (1522, 1940), (1082, 1296), (594, 947), (808, 1056), (680, 1136), (728, 1176), (1445, 2022), (1582, 1582), (533, 937), (1612, 1870), (1666, 1990), (1632, 1848), (664, 1048), (824, 1000), (375, 765), (1399, 1762), (680, 992), (1137, 1496), (736, 1152), (1210, 1566), (769, 1186), (664, 904), (1152, 1216), (1175, 1608), (696, 936), (1406, 1886), (1560, 1944), (592, 1144), (1208, 1376), (1074, 1296), (1104, 1584), (624, 1096), (1411, 1592), (1043, 1574), (1306, 1310), (1064, 1368), (1611, 1766), (736, 1008), (608, 1088), (1449, 1704), (960, 1576), (1120, 1528), (1341, 1762), (1395, 1504), (560, 968), (1073, 1453), (1187, 1438), (720, 920), (640, 1040), (1179, 1434), (1357, 1886), (1032, 1272), (1318, 1778), (1503, 1940), (1104, 1440), (592, 1000), (624, 952), (648, 1160), (576, 912), (933, 1558), (1088, 1352), (632, 1072), (1072, 1344), (560, 824), (592, 856), (536, 1104), (870, 1358), (616, 984), (648, 1016), (1488, 1816), (1360, 1896), (552, 1048), (1260, 1400), (1205, 1464), (584, 888), (1086, 1284), (968, 1408), (536, 960), (1138, 1294), (801, 1380), (1322, 1640), (976, 1232), (1020, 1418), (792, 1560), (1000, 1360), (1488, 1672), (952, 1304), (1693, 1812), (523, 877), (528, 992), (1534, 1904), (1302, 1518), (1121, 1506), (1441, 1862), (488, 776), (389, 654), (260, 503), (459, 749), (1000, 1216), (872, 1296), (952, 1176), (1152, 1350), (1600, 1626), (928, 1456), (1283, 1504), (716, 1048), (856, 1208), (1348, 1670), (840, 1200), (735, 918), (912, 1368), (512, 760), (846, 1014), (490, 821), (896, 1280), (768, 1360), (1384, 1592), (928, 1312), (856, 1064), (1380, 1558), (840, 1056), (752, 1272), (864, 1184), (1430, 1824), (890, 1322), (851, 1214), (432, 736), (816, 1256), (1812, 1746), (1036, 1296), (768, 1216), (1836, 1874), (655, 930), (1242, 1364), (978, 1434), (1848, 1848), (824, 1376), (752, 1128), (424, 768), (784, 1160), (864, 1040), (874, 1462), (1168, 1680), (242, 468), (768, 1072), (713, 1136), (1071, 1518), (1365, 1736), (696, 1312), (1144, 1588), (824, 1232), (776, 1192), (1152, 1592), (936, 1330), (1156, 1562), (1310, 1620), (921, 1430), (1209, 1488), (808, 1144), (680, 1224), (182, 453), (760, 1104), (1124, 1646), (498, 838), (792, 1056), (951, 1458), (664, 1136), (824, 1088), (696, 1168), (1152, 1448), (776, 1048), (1176, 1576), (1048, 1656), (1288, 1488), (808, 1000), (1642, 1720), (1693, 2031), (1573, 1886), (680, 1080), (1192, 1520), (1144, 1480), (664, 992), (998, 1246), (755, 1110), (1176, 1432), (720, 1152), (1616, 1704), (672, 1112), (1340, 1620), (680, 936), (624, 1184), (1048, 1368), (720, 1008), (592, 1088), (672, 968), (1392, 1666), (1299, 1624), (1125, 1322), (1184, 1408), (1210, 1546), (576, 1000), (656, 880), (736, 952), (1440, 2008), (275, 514), (1033, 1504), (867, 1292), (632, 1160), (1179, 1558), (1260, 1632), (960, 1520), (1040, 1400), (689, 1142), (1535, 1836), (1708, 1944), (632, 1016), (1353, 1716), (584, 976), (1264, 1638), (391, 810), (685, 1028), (1078, 1368), (1017, 1272), (1456, 1808), (616, 928), (648, 960), (568, 888), (2129, 2202), (1896, 2000), (600, 840), (626, 978), (472, 920), (1129, 1678), (1024, 1396), (984, 1360), (856, 1440), (584, 832), (1016, 1392), (968, 1352), (1456, 1664), (1507, 1666), (759, 1098), (1384, 1824), (1137, 1538), (1452, 1550), (755, 1244), (663, 981), (984, 1216), (763, 1068), (1016, 1248), (1075, 1334), (767, 1218), (480, 896), (840, 1288), (912, 1456), (1320, 1696), (864, 1416), (1920, 1920), (1612, 1804), (1283, 1628), (511, 703), (816, 1488), (815, 1114), (856, 1152), (912, 1312), (959, 1244), (1352, 1584), (1537, 1666), (1214, 1650), (896, 1224), (1329, 1600), (848, 1184), (1341, 1840), (440, 944), (1380, 1682), (1008, 1136), (768, 1304), (752, 1216), (851, 1338), (2326, 2091), (1268, 1626), (768, 1160), (1542, 1600), (848, 1040), (1688, 1654), (792, 1288), (1619, 1820), (824, 1320), (1044, 1589), (2066, 2280), (1692, 1953), (752, 1072), (2540, 2428), (1383, 1692), (808, 1232), (760, 1192), (1192, 1752), (792, 1144), (824, 1176), (776, 1136), (752, 928), (1176, 1664), (642, 1056), (1288, 1576), (427, 722), (736, 1328), (1144, 1568), (792, 1000), (664, 1080), (1503, 1766), (776, 992), (1176, 1520), (1569, 1860), (720, 1240), (1160, 1512), (808, 944), (832, 1072), (731, 1106), (704, 1152), (670, 1010), (1224, 1304), (1109, 1466), (1576, 1984), (556, 845), (688, 1064), (1569, 1716), (1128, 1336), (800, 976), (672, 1056), (507, 723), (1815, 1857), (720, 1096), (1104, 1616), (603, 956), (1210, 1634), (1364, 1692), (1295, 1858), (704, 1008), (809, 1290), (656, 968), (1056, 1576), (784, 888), (2237, 2260), (866, 1186), (920, 1306), (560, 1000), (766, 1248), (720, 952), (672, 912), (890, 1400), (744, 1080), (1096, 1648), (568, 1120), (576, 944), (656, 824), (1088, 1384), (632, 1104), (1040, 1344), (712, 984), (1200, 1296), (1631, 1928), (1016, 1624), (1096, 1504), (744, 936), (616, 1016), (488, 1096), (568, 976), (872, 1616), (1488, 1848), (1167, 1384), (1059, 1442), (632, 960), (1217, 1650), (677, 1148), (984, 1448), (1008, 1656), (488, 952), (568, 832), (1500, 1858), (1080, 1272), (1106, 1410), (1990, 2396), (1008, 1512), (1330, 1712), (496, 992), (984, 1304), (936, 1264), (608, 904), (528, 1024), (1082, 1318), (968, 1296), (1279, 1746), (1432, 1696), (1178, 1700), (952, 1208), (1024, 1376), (1136, 1554), (896, 1456), (1604, 1808), (496, 848), (1755, 1940), (1333, 1802), (552, 1008), (1331, 1878), (1352, 1672), (864, 1360), (1064, 1534), (952, 1064), (1183, 1634), (976, 1192), (1310, 1446), (520, 912), (1195, 1608), (1008, 1224), (1275, 1488), (1408, 1752), (848, 1272), (1267, 1484), (1194, 1500), (1433, 1782), (1418, 1882), (880, 1224), (1232, 1792), (1125, 1400), (864, 1216), (1670, 1874), (1328, 1616), (440, 888), (1542, 1688), (1132, 1790), (792, 1376), (752, 1160), (809, 1450), (1839, 2060), (808, 1320), (1329, 1580), (1195, 1500), (1661, 1910), (920, 1152), (1240, 1508), (1280, 1544), (1130, 1636), (537, 942), (778, 1068), (776, 1224), (752, 1016), (416, 832), (1048, 1832), (904, 1144), (1176, 1752), (760, 1136), (832, 1304), (1272, 1576), (677, 1138), (1499, 1704), (792, 1088), (1080, 1458), (1519, 1682), (776, 1080), (1515, 1828), (1500, 1848), (760, 992), (1051, 1464), (832, 1160), (1719, 1972), (1600, 1792), (816, 1072), (688, 1152), (1200, 1672), (1128, 1424), (672, 1144), (2013, 2226), (1184, 1584), (1638, 1754), (928, 1478), (833, 1506), (656, 1056), (1349, 1508), (712, 1216), (1468, 1608), (560, 1088), (1121, 1384), (688, 1008), (1360, 1666), (672, 1000), (2376, 2134), (744, 1168), (616, 1248), (1512, 1800), (1175, 1620), (363, 659), (1101, 1442), (728, 1080), (1088, 1472), (712, 1072), (584, 1152), (560, 944), (936, 1640), (1445, 1746), (744, 1024), (1152, 1264), (696, 984), (728, 936), (600, 1016), (680, 896), (651, 1098), (584, 1008), (1112, 1456), (1472, 1848), (984, 1536), (653, 1287), (616, 960), (744, 880), (568, 920), (1080, 1360), (1051, 1562), (600, 872), (1024, 1608), (1032, 1320), (1272, 1530), (1430, 1738), (1112, 1312), (984, 1392), (936, 1352), (608, 992), (1102, 1384), (1067, 1426), (1719, 2106), (640, 944), (832, 1114), (1577, 2022), (1731, 2080), (976, 1424), (1545, 1810), (624, 856), (496, 936), (535, 864), (480, 928), (634, 986), (1259, 1712), (992, 1368), (640, 800), (464, 840), (610, 894), (896, 1400), (648, 920), (848, 1360), (1380, 1858), (1121, 1518), (936, 1064), (904, 1520), (1245, 1670), (186, 486), (992, 1224), (864, 1304), (817, 1372), (1171, 1604), (456, 984), (1283, 1516), (468, 846), (1024, 1176), (2183, 2218), (920, 1384), (880, 1168), (552, 808), (1392, 1688), (1299, 1646), (1457, 1854), (1230, 1546), (1804, 1898), (888, 1288), (456, 840), (760, 1368), (994, 1306), (1148, 1364), (840, 1248), (1353, 1882), (1580, 1924), (848, 1072), (792, 1320), (967, 1172), (1453, 1740), (872, 1200), (639, 1078), (904, 1232), (776, 1312), (651, 1052), (920, 1240), (800, 1440), (1029, 1412), (808, 1264), (1175, 1466), (888, 1144), (893, 1488), (832, 1392), (950, 1384), (1299, 1538), (1044, 1248), (829, 1094), (928, 1216), (800, 1296), (454, 888), (1414, 1604), (1056, 1896), (760, 1080), (832, 1248), (1184, 1816), (656, 1288), (1024, 1418), (1216, 1768), (1168, 1728), (843, 1114), (816, 1160), (1160, 1724), (1176, 1552), (1121, 1616), (1201, 1496), (1673, 2358), (928, 1072), (1820, 2148), (1353, 1630), (2132, 2414), (1312, 1592), (704, 1184), (1136, 1632), (1184, 1672), (656, 1144), (832, 1104), (1296, 1504), (921, 1298), (816, 1016), (712, 1304), (768, 976), (800, 1008), (672, 1088), (1056, 1608), (138, 400), (1136, 1488), (656, 1000), (1195, 1686), (882, 1226), (728, 1168), (1296, 1360), (1168, 1440), (712, 1160), (688, 952), (1259, 1558), (1159, 1620), (1654, 1828), (218, 508), (744, 1112), (696, 1072), (1184, 1384), (1676, 1846), (1080, 1592), (848, 1206), (728, 1024), (600, 1104), (680, 984), (140, 445), (712, 1016), (740, 998), (1064, 1504), (736, 1144), (1291, 1632), (744, 968), (664, 896), (1009, 1388), (855, 1330), (568, 1008), (696, 928), (1208, 1368), (1080, 1448), (952, 1528), (1708, 1920), (1160, 1328), (1112, 1400), (1446, 1654), (1839, 1994), (608, 1080), (476, 781), (1488, 1916), (1341, 1754), (640, 1032), (1048, 1272), (1588, 1774), (592, 992), (648, 1152), (624, 944), (1544, 1704), (1008, 1544), (576, 904), (1410, 1624), (188, 499), (1120, 1376), (1093, 1508), (512, 968), (1507, 1642), (831, 1130), (536, 1096), (1024, 1408), (648, 1008), (1334, 1750), (1488, 1808), (779, 1348), (1480, 1804), (880, 1400), (632, 920), (1492, 1778), (1265, 1736), (951, 1460), (998, 1392), (1148, 1596), (1202, 1716), (848, 1304), (947, 1426), (1314, 1628), (1514, 1802), (1279, 1670), (880, 1256), (552, 896), (944, 1128), (1310, 1514), (840, 1336), (413, 1003), (792, 1408), (1240, 1684), (1840, 2088), (817, 1352), (1232, 1680), (904, 1320), (1261, 1478), (1638, 1724), (544, 928), (910, 1400), (928, 1448), (1596, 1956), (643, 1056), (1214, 1662), (856, 1200), (794, 1454), (840, 1192), (1033, 1470), (2028, 2144), (1224, 1712), (792, 1264), (1812, 1882), (1787, 1709), (1465, 1658), (744, 958), (720, 1504), (1013, 1528), (856, 1056), (227, 439), (1473, 1778), (832, 1336), (784, 1296), (656, 1376), (1198, 1430), (1376, 1520), (1715, 2214), (816, 1248), (863, 1180), (229, 485), (768, 1208), (1128, 1600), (800, 1240), (1252, 1666), (485, 856), (832, 1192), (784, 1152), (1224, 1424), (1963, 2172), (712, 1392), (688, 1184), (948, 1260), (1668, 1729), (1221, 1418), (824, 1224), (1640, 1896), (1318, 1616), (2264, 2514), (656, 1088), (728, 1256), (1275, 1654), (680, 1216), (712, 1248), (688, 1040), (401, 718), (816, 960), (1140, 1466), (1164, 1414), (1318, 1472), (862, 1192), (1750, 1920), (1208, 1600), (728, 1112), (1160, 1560), (680, 1072), (1595, 1866), (1248, 1264), (1192, 1512), (1125, 1422), (664, 984), (744, 1056), (1097, 1360), (1410, 1820), (696, 1016), (755, 1102), (1148, 1442), (1356, 1620), (1595, 1902), (1080, 1536), (1160, 1416), (728, 968), (1225, 1774), (1407, 1522), (778, 1234), (576, 1136), (1064, 1448), (736, 1088), (310, 571), (608, 1168), (1468, 2026), (995, 1348), (640, 1120), (1048, 1360), (720, 1000), (1572, 1854), (1008, 1632), (576, 992), (1009, 1368), (1287, 1870), (960, 1512), (632, 1152), (864, 1624), (560, 904), (640, 976), (1261, 1360), (592, 936), (1481, 1592), (1024, 1496), (1522, 2118), (976, 1456), (1056, 1336), (632, 1008), (500, 709), (1306, 1596), (1037, 1322), (536, 1040), (1176, 1666), (1318, 1570), (1164, 1512), (488, 1000), (463, 827), (976, 1312), (1047, 1372), (859, 1172), (1487, 1644), (552, 984), (584, 824), (1472, 1664), (944, 1216), (1751, 1982), (1391, 1676), (1175, 1786), (536, 896), (615, 1040), (1016, 1384), (1328, 1736), (920, 1416), (1000, 1296), (904, 1408), (1812, 2114), (2032, 2346), (1064, 1546), (1036, 1484), (755, 1056), (832, 1568), (1187, 1616), (1044, 1604), (920, 1272), (604, 923), (1012, 1126), (1585, 1662), (542, 948), (856, 1144), (1816, 1940), (241, 462), (840, 1136), (1264, 1872), (180, 452), (1441, 1654), (1272, 1696), (198, 500), (1018, 1322), (439, 712), (872, 1088), (816, 1336), (1329, 1592), (800, 1328), (1013, 1472), (1248, 1604), (1094, 1546), (1040, 1346), (658, 1244), (784, 1240), (1168, 1760), (1149, 1518), (847, 1296), (1662, 1774), (1469, 1608), (1307, 1546), (173, 448), (824, 1312), (1507, 1720), (1312, 1624), (776, 1272), (1032, 1198), (1005, 1244), (1312, 1395), (1438, 1620), (784, 1096), (524, 791), (1314, 1850), (1284, 1562), (1136, 1664), (1978, 1979), (1010, 1588), (936, 1230), (1480, 1882), (1402, 1554), (2376, 2434), (1233, 1596), (375, 668), (768, 1008), (816, 1048), (744, 1288), (1306, 1586), (2086, 2186), (1225, 1512), (1071, 1454), (776, 1128), (685, 1010), (752, 920), (1152, 1528), (1648, 1960), (808, 1080), (1908, 2036), (760, 1040), (1168, 1472), (1112, 1720), (1245, 1692), (1353, 1554), (736, 1320), (792, 992), (664, 1072), (1071, 1310), (824, 1024), (1028, 1348), (720, 1232), (1781, 2080), (728, 1056), (927, 1302), (680, 1016), (1279, 1604), (1112, 1576), (651, 989), (1064, 1536), (736, 1176), (664, 928), (1097, 1304), (823, 1101), (1167, 1628), (1208, 1400), (1715, 1762), (1392, 1746), (979, 1348), (1735, 1740), (1104, 1608), (1279, 1460), (187, 445), (704, 1000), (269, 514), (1530, 1716), (736, 1032), (1144, 1272), (1368, 1654), (1681, 2114), (1279, 1954), (1120, 1552), (560, 992), (944, 1592), (1048, 1304), (592, 1024), (672, 904), (1024, 1584), (924, 1268), (1104, 1464), (1056, 1424), (624, 976), (1209, 1666), (189, 490), (576, 936), (1700, 2020), (1781, 1828), (559, 883), (584, 1056), (560, 848), (592, 880), (393, 671), (1237, 1584), (616, 1008), (648, 1040), (1314, 1804), (286, 724), (1067, 1438), (1088, 1232), (1306, 1720), (960, 1312), (632, 952), (897, 1372), (1072, 1224), (584, 912), (968, 1432), (1202, 1748), (648, 896), (568, 824), (872, 1464), (472, 856), (960, 1168), (1086, 1164), (1136, 1510), (1071, 1264), (968, 1288), (1380, 1870), (1202, 1604), (581, 1028), (1128, 1426), (840, 1368), (209, 482), (920, 1360), (1352, 1808), (1279, 1558), (544, 960), (952, 1200), (1271, 1554), (1178, 1512), (928, 1352), (528, 872), (1186, 1632), (1916, 1886), (912, 1392), (839, 1408), (864, 1352), (1224, 1744), (971, 1298), (896, 1304), (928, 1336), (800, 1416), (1008, 1216), (175, 461), (127, 384), (1312, 1856), (824, 1544), (886, 1110), (424, 936), (784, 1328), (864, 1208), (1519, 1697), (808, 1456), (1764, 1873), (1282, 1870), (270, 469), (1816, 1920), (440, 880), (928, 1192), (408, 668), (1426, 1734), (1392, 1592), (776, 1360), (752, 1152), (484, 843), (709, 1190), (1410, 1646), (1495, 1870), (1214, 1442), (1295, 1516), (768, 1096), (1499, 1840), (792, 1224), (824, 1256), (904, 1136), (1075, 1512), (1288, 1656), (728, 1288), (1209, 1512), (808, 1168), (1535, 1762), (2187, 2362), (1761, 1845), (1304, 1600), (1550, 2070), (664, 1160), (1044, 1381), (824, 1112), (1176, 1600), (1208, 1632), (1468, 1708), (1287, 1696), (1581, 1914), (680, 1104), (1047, 1306), (967, 1426), (760, 984), (1776, 1824), (704, 1232), (1152, 1508), (978, 1206), (884, 1428), (606, 926), (1615, 2172), (664, 1016), (792, 936), (720, 1176), (1128, 1416), (1032, 1528), (704, 1088), (1391, 1646), (736, 1120), (925, 1056), (2578, 2633), (528, 862), (1542, 1778), (548, 840), (688, 1000), (994, 1272), (1048, 1392), (655, 823), (1128, 1272), (541, 801), (672, 992), (1005, 1430), (1104, 1552), (1184, 1432), (624, 1064), (1337, 1674), (1171, 1462), (704, 944), (576, 1024), (696, 940), (1056, 1512), (1670, 1820), (974, 1442), (1174, 1504), (712, 1064), (1072, 1456), (560, 936), (1352, 1510), (744, 1016), (1399, 1442), (568, 1056), (648, 1128), (1136, 1248), (576, 880), (1167, 1464), (913, 1468), (600, 1008), (1228, 1480), (1440, 1888), (1194, 1338), (1333, 1496), (1345, 1736), (843, 1260), (968, 1520), (1257, 1394), (616, 952), (628, 926), (952, 1432), (1217, 1586), (1503, 1800), (1016, 1416), (469, 789), (968, 1376), (488, 888), (521, 836), (940, 1314), (512, 1016), (1000, 1328), (1294, 1546), (872, 1408), (544, 1048), (1283, 1796), (1577, 2014), (1286, 1542), (1692, 1964), (1306, 1520), (1078, 1284), (472, 800), (1008, 1448), (896, 1536), (856, 1320), (1267, 1708), (968, 1232), (864, 1440), (512, 872), (1581, 1724), (1000, 1184), (544, 904), (952, 1144), (1224, 1832), (1024, 1312), (496, 784), (856, 1176), (929, 1160), (1314, 1496), (747, 1040), (552, 944), (912, 1336), (971, 1422), (232, 445), (864, 1296), (880, 1304), (1024, 1168), (896, 1248), (768, 1328), (440, 968), (848, 1208), (904, 1368), (752, 1240), (424, 880), (552, 800), (1070, 1400), (762, 1284), (680, 1480), (597, 808), (896, 1104), (1469, 1640), (1333, 1630), (792, 1312), (1280, 1624), (824, 1344), (904, 1224), (1256, 1532), (888, 1136), (760, 1216), (1375, 1632), (792, 1168), (664, 1248), (824, 1200), (1604, 1986), (776, 1160), (752, 952), (1349, 1696), (1322, 1742), (1249, 1758), (720, 1408), (1449, 1554), (747, 1282), (760, 1072), (952, 1422), (832, 1240), (1350, 1840), (1272, 1512), (1051, 1364), (951, 1426), (1403, 1852), (909, 1280), (688, 1232), (735, 1164), (1288, 1456), (1074, 1496), (672, 1224), (1869, 1767), (885, 1188), (1966, 2194), (704, 1176), (832, 1096), (472, 790), (2583, 2916), (1203, 1534), (1216, 1616), (1164, 1426), (1224, 1328), (1557, 1766), (1156, 1422), (656, 1136), (688, 1088), (560, 1168), (513, 907), (1128, 1360), (359, 620), (672, 1080), (744, 1248), (1005, 1518), (1125, 1434), (1132, 1330), (951, 1318), (1105, 1376), (1225, 1292), (897, 1198), (2017, 2132), (656, 992), (704, 1032), (1302, 1512), (600, 1240), (1109, 1346), (1216, 1472), (643, 1202), (1333, 1728), (1433, 1852), (560, 1024), (712, 1152), (2221, 2276), (1341, 1360), (1044, 1482), (744, 1104), (696, 1064), (1056, 1456), (190, 438), (704, 888), (1391, 1446), (728, 1016), (1148, 1310), (600, 1096), (1619, 1978), (234, 481), (959, 1294), (712, 1008), (584, 1088), (1418, 1808), (1133, 1330), (1186, 1422), (560, 880), (1424, 1888), (1364, 1608), (1044, 1338), (744, 960), (817, 1210), (1410, 1724), (696, 920), (568, 1000), (1056, 1312), (952, 1520), (1708, 1912), (600, 952), (759, 1354), (626, 861), (584, 944), (936, 1432), (2601, 2309), (608, 1072), (616, 896), (1256, 1522), (1410, 1580), (568, 856), (1480, 1904), (640, 1024), (952, 1376), (1032, 1256), (1658, 2176), (472, 888), (984, 1328), (856, 1408), (836, 1164), (528, 1048), (608, 928), (1128, 1458), (1079, 1416), (812, 1072), (952, 1232), (1024, 1400), (1182, 1694), (1544, 1552), (984, 1184), (528, 904), (1476, 1646), (936, 1144), (480, 864), (552, 1032), (2283, 2120), (1180, 1504), (132, 446), (1573, 1844), (864, 1384), (512, 816), (1152, 1442), (2305, 2553), (1144, 1438), (244, 507), (1183, 1658), (896, 1336), (648, 856), (848, 1296), (581, 952), (1462, 1604), (712, 1106), (904, 1456), (880, 1248), (552, 888), (504, 848), (888, 1368), (1461, 1904), (1328, 1640), (1488, 1512), (776, 1392), (752, 1184), (1245, 1462), (1349, 1928), (304, 679), (1843, 2234), (612, 795), (1449, 1786), (863, 1280), (888, 1224), (1604, 1580), (1495, 1902), (840, 1184), (760, 1304), (588, 932), (627, 1040), (820, 1318), (848, 1008), (792, 1256), (872, 1136), (1071, 1574), (776, 1248), (800, 1376), (1442, 1746), (1295, 1584), (1576, 1746), (1422, 1688), (808, 1200), (760, 1160), (1067, 1460), (1192, 1720), (1600, 1960), (453, 743), (736, 1440), (1746, 2014), (766, 974), (1909, 2566), (664, 1192), (1870, 2458), (882, 1414), (650, 1028), (1048, 1712), (688, 1320), (800, 1232), (1288, 1544), (760, 1016), (1205, 1546), (1067, 1316), (704, 1264), (832, 1184), (784, 1144), (1272, 1456), (656, 1224), (1024, 1354), (156, 492), (1102, 1310), (720, 1208), (800, 1088), (1480, 1750), (1402, 1422), (672, 1168), (744, 1336), (1353, 1566), (191, 486), (704, 1120), (728, 1248), (1407, 1802), (688, 1032), (1133, 1562), (1200, 1552), (1206, 1632), (672, 1024), (1152, 1432), (1239, 1400), (1312, 1384), (696, 1152), (704, 976), (1777, 1978), (656, 936), (728, 1104), (1216, 1416), (1648, 1864), (1407, 1658), (712, 1096), (1206, 1488), (937, 1214), (944, 1110), (824, 928), (696, 1008), (568, 1088), (1029, 1446), (1190, 1400), (786, 1310), (1348, 1608), (1080, 1528), (600, 1040), (680, 920), (1720, 1974), (1437, 1802), (936, 1520), (568, 944), (640, 1112), (1422, 1642), (592, 1072), (1080, 1384), (1568, 1696), (1032, 1344), (600, 896), (305, 570), (624, 1024), (1430, 1762), (984, 1416), (528, 1136), (936, 1376), (608, 1016), (1504, 1568), (515, 937), (1410, 1524), (1099, 1662), (1326, 1790), (1432, 1808), (1144, 1670), (896, 1568), (976, 1448), (648, 1088), (457, 703), (1008, 1480), (984, 1272), (1123, 1467), (608, 872), (480, 952), (1320, 1752), (1106, 1414), (1499, 1754), (640, 824), (512, 904), (751, 1186), (944, 1352), (1303, 1928), (1705, 1822), (536, 1032), (896, 1424), (1249, 1728), (648, 944), (1468, 1766), (1048, 1558), (1334, 1686), (880, 1336), (1853, 2251), (960, 1216), (552, 976), (632, 856), (732, 1172), (864, 1328), (1271, 1566), (944, 1208), (1253, 1289), (1986, 2106), (536, 888), (1024, 1200), (488, 848), (848, 1240), (520, 880), (1121, 1398), (872, 1368), (1232, 1760), (1793, 2056), (1344, 1592), (888, 1312), (1222, 1566), (840, 1272), (1328, 1584), (1306, 1974), (1441, 1790), (1113, 1430), (1348, 1562), (1179, 1604), (920, 1264), (1086, 1562), (792, 1344), (872, 1224), (513, 877), (904, 1256), (544, 864), (1232, 1616), (647, 1020), (720, 1584), (1611, 1792), (800, 1464), (856, 1136), (1368, 1656), (760, 1248), (1328, 1440), (178, 483), (431, 663), (157, 460), (863, 1260), (1437, 1612), (928, 1240), (800, 1320), (1248, 1596), (1221, 1642), (1179, 1496), (1013, 1284), (560, 850), (912, 1152), (584, 878), (1216, 1792), (950, 1264), (816, 1184), (688, 1264), (1261, 1800), (800, 1176), (1500, 1816), (1152, 1664), (525, 828), (832, 1128), (704, 1208), (728, 1336), (1330, 1670), (1109, 1522), (1476, 1724), (1168, 1608), (712, 1328), (693, 1086), (800, 1032), (1091, 1504), (1271, 1700), (1152, 1520), (824, 1160), (696, 1240), (1746, 1850), (1136, 1512), (1576, 2076), (784, 944), (656, 1024), (728, 1192), (543, 738), (1028, 1304), (1720, 2206), (712, 1184), (1064, 1672), (744, 1136), (824, 1016), (696, 1096), (1183, 1592), (1208, 1536), (1075, 1272), (993, 1468), (680, 1008), (712, 1040), (1112, 1568), (736, 1168), (762, 1306), (1096, 1560), (1337, 1686), (664, 920), (1448, 2048), (696, 952), (1120, 1688), (624, 1112), (1112, 1424), (1090, 1522), (790, 1144), (736, 1024), (1449, 1720), (1905, 2637), (1048, 1296), (720, 936), (1083, 1662), (1225, 1566), (1104, 1456), (624, 968), (650, 1106), (531, 777), (576, 928), (1064, 1240), (1936, 2252), (936, 1320), (1422, 1622), (1120, 1400), (1341, 1634), (640, 912), (1024, 1432), (504, 759), (1310, 1646), (470, 766), (256, 428), (920, 1640), (1488, 1832), (933, 1430), (552, 1064), (960, 1304), (632, 944), (1125, 1600), (2012, 2512), (658, 1082), (992, 1336), (944, 1296), (1967, 1952), (1356, 1798), (616, 856), (976, 1248), (262, 444), (947, 1450), (792, 1576), (1488, 1688), (353, 711), (552, 920), (960, 1160), (1372, 1742), (1680, 1858), (1106, 1214), (1070, 1520), (944, 1152), (881, 1541), (1016, 1320), (888, 1400), (1469, 1940), (968, 1280), (1153, 1820), (1328, 1672), (255, 441), (1160, 1450), (886, 1210), (1453, 1852), (1052, 1508), (544, 952), (1000, 1232), (1271, 1546), (878, 1206), (1384, 1752), (872, 1312), (963, 1430), (1183, 1582), (1496, 1664), (528, 864), (1329, 1636), (1557, 1680), (888, 1256), (968, 1136), (701, 1021), (1654, 1878), (592, 885), (1446, 1812), (920, 1208), (1372, 1634), (872, 1168), (1551, 2094), (816, 1416), (1951, 2064), (1437, 1700), (928, 1328), (800, 1408), (1337, 1496), (1700, 2110), (1036, 1276), (840, 1072), (832, 1360), (912, 1240), (1438, 1844), (724, 1040), (1032, 1422), (1052, 1400), (872, 1024), (1476, 1956), (816, 1272), (768, 1232), (1469, 1688), (1128, 1624), (928, 1184), (800, 1264), (974, 1300), (620, 1068), (824, 1392), (1184, 1784), (1264, 1664), (832, 1216), (752, 1144), (784, 1176), (1044, 1252), (650, 1096), (1216, 1736), (1476, 1812), (528, 841), (1314, 1750), (1287, 1796), (688, 1208), (1341, 1624), (1106, 1492), (1093, 1522), (1152, 1608), (824, 1248), (586, 931), (1217, 1588), (1051, 1376), (752, 1000), (535, 1002), (1468, 1844), (712, 1272), (658, 1072), (1408, 1304), (664, 1152), (824, 1104), (1739, 1898), (776, 1064), (1208, 1624), (728, 1136), (808, 1016), (680, 1096), (1168, 1408), (1881, 2018), (805, 1356), (1352, 1754), (1565, 1898), (1192, 1536), (1299, 1748), (1298, 1554), (664, 1008), (1344, 1670), (696, 1040), (1758, 1804), (1688, 1968), (194, 564), (1208, 1480), (548, 796), (719, 1023), (1805, 2144), (1151, 1620), (1044, 1494), (855, 1006), (1372, 1588), (736, 1112), (1048, 1384), (1560, 1904), (592, 1104), (1040, 1380), (1179, 1538), (1426, 1824), (1264, 1762), (1496, 2148), (612, 1082), (672, 984), (1104, 1544), (624, 1056), (1325, 1512), (576, 1016), (1064, 1328), (608, 1048), (1448, 1848), (992, 1568), (1051, 1654), (640, 1000), (1280, 1626), (1048, 1240), (2145, 2450), (1272, 1622), (672, 840), (1072, 1448), (1104, 1400), (648, 1120), (1677, 1936), (444, 716), (1040, 1272), (1318, 1774), (1472, 1832), (944, 1384), (888, 1632), (1045, 1350), (616, 944), (2206, 2056), (648, 976), (573, 982), (632, 888), (1040, 1128), (584, 848), (1002, 1510), (536, 920), (1328, 1760), (1000, 1320), (1279, 1638), (544, 1040), (1460, 1570), (1097, 1518), (1144, 1450), (250, 450), (984, 1232), (856, 1312), (349, 721), (528, 952), (888, 1344), (1255, 1546), (674, 1006), (735, 1022), (1723, 1800), (778, 1392), (712, 1118), (920, 1296), (872, 1256), (544, 896), (928, 1416), (1336, 1656), (295, 457), (1194, 1572), (480, 768), (1731, 2414), (912, 1328), (784, 1408), (872, 1112), (931, 1198), (816, 1360), (1190, 1458), (768, 1320), (928, 1272), (800, 1352), (1280, 1760), (1768, 2072), (1400, 1676), (1264, 1752), (1672, 1955), (1654, 1678), (864, 1144), (1456, 1693), (816, 1216), (1248, 1664), (896, 1096), (1076, 1292), (768, 1176), (948, 1372), (2109, 2258), (1769, 1744), (824, 1336), (752, 1088), (1136, 1688), (1493, 1580), (178, 407), (689, 1148), (784, 1120), (1236, 1546), (808, 1248), (933, 1508), (774, 1106), (1696, 1796), (1375, 1624), (768, 1032), (1680, 2080), (1051, 1500), (1280, 1472), (1912, 2094), (1665, 1808), (776, 1152), (1010, 1468), (1296, 1416), (760, 1064), (1480, 1762), (1067, 1364), (427, 738), (1099, 1396), (1164, 1562), (1152, 1408), (917, 1276), (664, 1096), (776, 1008), (1176, 1536), (720, 1256), (672, 1216), (1642, 1680), (760, 920), (885, 1180), (704, 1168), (1124, 1462)}\n",
      "Images corrompues: 0\n",
      "\n",
      "Inspection du set de validation:\n",
      "Directory: ./data/chest_Xray/val\n",
      "Nombre d'images chargées: 16\n",
      "Tailles uniques: {(592, 968), (656, 1016), (1104, 1328), (1040, 1272), (1416, 1776), (864, 1256), (1302, 1564), (952, 1192), (944, 1416), (1128, 1664), (928, 1288), (712, 1072), (1104, 1240), (1225, 1632), (1416, 1736), (664, 1152)}\n",
      "Images corrompues: 0\n",
      "\n",
      "Inspection du set de test:\n",
      "Directory: ./data/chest_Xray/test\n",
      "Nombre d'images chargées: 624\n",
      "Tailles uniques: {(709, 1094), (664, 952), (1785, 1863), (1036, 1754), (1705, 2010), (2310, 2517), (1456, 1800), (760, 1032), (1526, 2035), (520, 1032), (872, 1520), (2076, 2426), (840, 1168), (1400, 1648), (576, 960), (968, 1344), (1837, 2031), (560, 872), (1216, 1576), (544, 1016), (1742, 2028), (760, 1144), (688, 1048), (720, 1080), (2155, 2444), (2329, 2480), (632, 976), (897, 1396), (656, 952), (744, 1464), (1168, 1392), (688, 1160), (768, 1040), (648, 840), (800, 1072), (1303, 1720), (712, 968), (1296, 2071), (560, 840), (1443, 1852), (688, 1016), (784, 1240), (1217, 2043), (1208, 1320), (856, 1256), (1377, 1754), (480, 856), (1709, 2096), (1168, 1778), (1392, 1742), (440, 1048), (1489, 1940), (1014, 1558), (2382, 2746), (1641, 1827), (1519, 1712), (744, 1032), (1749, 2165), (1202, 1538), (864, 1232), (696, 992), (600, 1024), (824, 1168), (816, 1304), (848, 1144), (1392, 2034), (643, 1022), (1010, 1462), (2085, 1970), (880, 1096), (1372, 1796), (592, 1056), (792, 992), (864, 1344), (967, 1338), (752, 1032), (1323, 1638), (848, 1256), (640, 952), (2087, 2043), (1064, 1536), (1032, 1184), (976, 1432), (640, 1208), (1600, 1952), (897, 1148), (1260, 1438), (936, 1216), (1187, 1624), (1504, 1844), (704, 1000), (1416, 1960), (2094, 2194), (736, 1288), (1128, 1184), (648, 1184), (672, 1160), (1040, 1336), (704, 1112), (1187, 1754), (1484, 1968), (1442, 1724), (688, 1024), (800, 936), (1568, 1720), (888, 1296), (632, 952), (1619, 2040), (584, 912), (1485, 2198), (1312, 1632), (712, 1088), (856, 1120), (1226, 1974), (1456, 2000), (817, 1128), (1184, 1568), (1432, 1917), (920, 1360), (656, 1040), (544, 960), (616, 976), (696, 856), (688, 992), (568, 936), (560, 1072), (936, 1350), (912, 1392), (1056, 1504), (1349, 1766), (1836, 2024), (680, 1024), (1010, 1564), (1418, 1856), (1224, 1762), (898, 1094), (856, 1088), (568, 1048), (744, 1264), (1534, 1658), (824, 1144), (600, 1000), (1337, 1778), (680, 1136), (1024, 1336), (880, 1072), (712, 1168), (640, 1072), (696, 1080), (944, 1200), (936, 1336), (1731, 2226), (608, 976), (813, 1256), (812, 1300), (740, 1006), (1600, 2148), (680, 1248), (871, 1206), (664, 904), (696, 936), (921, 1472), (720, 1064), (1080, 1456), (917, 1340), (1072, 1470), (2030, 2244), (648, 904), (520, 984), (1559, 1984), (880, 1296), (1226, 1802), (624, 952), (863, 1472), (632, 1072), (1288, 1624), (592, 856), (878, 1222), (760, 1096), (832, 1264), (648, 1016), (592, 1112), (448, 1000), (1164, 1612), (1224, 1752), (656, 904), (1122, 1704), (1013, 1388), (600, 1008), (1303, 1910), (1357, 1890), (560, 792), (1016, 1560), (696, 1088), (824, 1264), (856, 1064), (952, 1288), (1392, 1712), (840, 1056), (568, 1024), (584, 968), (767, 1260), (2057, 2498), (728, 1152), (925, 1190), (344, 888), (592, 1008), (1008, 1560), (728, 1008), (906, 1460), (600, 1088), (824, 1232), (870, 1110), (2032, 2297), (904, 1368), (2195, 2431), (1048, 1400), (1145, 1314), (592, 1120), (925, 1558), (1375, 2014), (991, 1512), (792, 1312), (824, 1344), (1334, 1604), (1818, 2053), (536, 968), (816, 1260), (1706, 1741), (654, 1198), (808, 1256), (1318, 1754), (1041, 1616), (504, 872), (624, 928), (720, 1152), (608, 920), (1032, 1504), (536, 824), (680, 936), (776, 1160), (650, 1322), (1029, 1260), (496, 864), (1576, 2143), (1144, 1592), (1164, 1570), (552, 1024), (1478, 1873), (2296, 2496), (1828, 2251), (448, 832), (616, 1072), (840, 1064), (1000, 1592), (672, 1080), (1195, 1678), (986, 1532), (1087, 1596), (1332, 2187), (1214, 1646), (1249, 1762), (600, 840), (982, 1516), (1361, 1683), (1504, 1741), (584, 1088), (917, 1288), (704, 1144), (368, 728), (856, 1040), (528, 936), (1136, 1448), (1509, 2111), (1725, 2001), (1002, 1368), (608, 1072), (1412, 2026), (424, 744), (992, 1192), (984, 1328), (776, 1168), (712, 976), (784, 992), (1044, 1733), (808, 1120), (1024, 1400), (1008, 1392), (1125, 1824), (640, 992), (666, 1130), (808, 1232), (880, 1248), (760, 1192), (496, 984), (624, 1160), (464, 888), (424, 824), (640, 1104), (920, 920), (948, 1504), (1032, 1336), (1288, 1432), (736, 928), (960, 1496), (1125, 1572), (552, 856), (1945, 2214), (624, 1128), (704, 1008), (576, 1088), (920, 1288), (656, 968), (747, 1226), (784, 1144), (1064, 1674), (821, 1300), (632, 848), (797, 1330), (744, 1336), (536, 880), (840, 1408), (1048, 1586), (941, 1612), (704, 1120), (1000, 1280), (728, 1248), (544, 1000), (616, 1016), (1761, 2034), (1756, 1928), (720, 1082), (768, 1168), (656, 936), (913, 1406), (1296, 1952), (872, 1216), (882, 1400), (1375, 1827), (712, 1096), (752, 1080), (832, 1152), (696, 1008), (770, 1442), (832, 1426), (1183, 1522), (1597, 1894), (979, 1454), (1064, 1440), (1238, 1803), (1168, 1488), (752, 1192), (1168, 1744), (1792, 2115), (696, 1120), (776, 1000), (1461, 2006), (1585, 1785), (1333, 1582), (1979, 2517), (720, 1068), (1008, 1224), (2166, 2352), (696, 976), (808, 1464), (1558, 2060), (1104, 1624), (552, 1120), (768, 1248), (1113, 1700), (2139, 2343), (464, 864), (808, 1064), (680, 1144), (925, 1240), (760, 1280), (736, 1322), (792, 1232), (536, 888), (739, 1086), (1319, 1670), (560, 864), (736, 1160), (552, 832), (1403, 1898), (654, 1136), (776, 1080), (1033, 1550), (839, 1456), (801, 1164), (1118, 1365), (648, 912), (2458, 2720), (960, 1184), (921, 1592), (2152, 2366), (925, 1464), (672, 1144), (1346, 1646), (968, 1304), (536, 856), (832, 1016), (1317, 1857), (701, 1198), (1214, 1692), (568, 952), (1440, 1784), (816, 1184), (632, 936), (1136, 1400), (1021, 1562), (872, 1192), (984, 1680), (784, 1088), (984, 1280), (936, 1240), (472, 1096), (1068, 1786), (990, 1458), (640, 832), (1554, 1936), (1326, 1663), (1953, 2170), (968, 1528), (616, 960), (568, 920), (912, 1376), (608, 992), (813, 1272), (752, 1024), (1264, 1544), (640, 944), (1632, 1949), (1916, 2144), (1032, 1176), (496, 936), (776, 1088), (1179, 1612), (792, 1352), (464, 840), (824, 1384), (1882, 2752), (680, 1120), (752, 1136), (1152, 1344), (875, 1206), (792, 1208), (1024, 1432), (648, 1032), (1384, 2022), (751, 1292), (840, 1248), (624, 1080), (576, 1040), (1064, 1352), (1526, 1971), (560, 952), (816, 1268), (960, 1160), (1793, 2153), (1688, 1960), (712, 936), (704, 1072), (1110, 1620), (1149, 1450), (1435, 1816), (1044, 1266), (1965, 2381), (1843, 2266), (856, 1224), (1218, 1558), (528, 1120), (1016, 1432), (888, 1512), (2280, 2667), (994, 1530), (536, 944), (1040, 1408), (1620, 1992), (952, 1304), (744, 1000), (963, 1542), (1168, 1584), (568, 1040), (1314, 1647), (672, 1088), (600, 992), (416, 744), (662, 1214), (717, 1010), (1136, 1488), (2071, 2022), (728, 1168), (872, 1280), (1334, 1890), (2124, 2522), (856, 1192), (600, 848), (696, 1072), (768, 1088), (890, 1450), (480, 1048), (1040, 1376), (1000, 1312), (2224, 2474), (1095, 1720), (1230, 1774), (1936, 2345), (528, 944), (744, 1224), (1311, 1866), (480, 904), (1079, 1748), (992, 1600), (1907, 2165), (592, 992), (696, 1040), (576, 904), (792, 1184), (680, 952), (1299, 2022), (736, 1112), (747, 1298), (664, 864), (859, 1210), (552, 784), (648, 1008), (672, 984), (2713, 2517), (704, 936), (762, 1106), (1505, 1726), (976, 1224), (664, 976), (1827, 2271), (648, 1120), (1764, 2093), (1246, 1740), (617, 1300), (632, 1032), (1120, 1344), (920, 1328), (1016, 1552), (616, 944), (720, 1410), (872, 1544), (672, 952), (888, 1232), (882, 1310), (1663, 2302), (1060, 1762), (2224, 2446), (600, 1112), (874, 1086), (968, 1624), (616, 1056), (1016, 1264), (1157, 1816), (816, 1248), (1389, 1784), (1110, 1802), (544, 896), (584, 1216), (1326, 1862), (1260, 1508), (906, 1434), (1434, 1782), (1454, 1611), (1538, 2028), (1953, 2216), (768, 1320), (1893, 2323), (1713, 2136), (744, 944), (1282, 1788), (824, 1080), (696, 1160), (1122, 1686), (2074, 2380), (752, 1088), (1893, 2624), (520, 952), (784, 1120), (1071, 1460), (976, 1488), (552, 904), (624, 920), (871, 1542), (880, 1120), (696, 872), (920, 1192), (844, 1310), (1079, 1454), (608, 1024), (536, 928), (716, 1124), (812, 1348), (848, 1280)}\n",
      "Images corrompues: 0\n"
     ]
    }
   ],
   "source": [
    "import os\n",
    "import cv2\n",
    "\n",
    "base_dir = \"./data/chest_Xray\"\n",
    "train_dir = os.path.join(base_dir, \"train\")\n",
    "val_dir = os.path.join(base_dir, \"val\")\n",
    "test_dir = os.path.join(base_dir, \"test\")\n",
    "\n",
    "def inspect_images(directory):\n",
    "    sizes = []\n",
    "    corrupted = []\n",
    "    for class_name in [\"NORMAL\", \"PNEUMONIA\"]:\n",
    "        class_dir = os.path.join(directory, class_name)\n",
    "        for img_name in os.listdir(class_dir):\n",
    "            if img_name.startswith(\".\") or \"Zone.Identifier\" in img_name:\n",
    "                continue\n",
    "            img_path = os.path.join(class_dir, img_name)\n",
    "            img = cv2.imread(\n",
    "                img_path, cv2.IMREAD_GRAYSCALE\n",
    "            )  # Charger en niveaux de gris\n",
    "            if img is None:\n",
    "                corrupted.append(img_path)\n",
    "            else:\n",
    "                sizes.append(img.shape)\n",
    "    unique_sizes = set(sizes)\n",
    "    print(f\"Directory: {directory}\")\n",
    "    print(f\"Nombre d'images chargées: {len(sizes)}\")\n",
    "    print(f\"Tailles uniques: {unique_sizes}\")\n",
    "    print(f\"Images corrompues: {len(corrupted)}\")\n",
    "    return corrupted\n",
    "\n",
    "\n",
    "print(\"Inspection du set d'entraînement:\")\n",
    "corrupted_train = inspect_images(train_dir)\n",
    "print(\"\\nInspection du set de validation:\")\n",
    "corrupted_val = inspect_images(val_dir)\n",
    "print(\"\\nInspection du set de test:\")\n",
    "corrupted_test = inspect_images(test_dir)"
   ]
  },
  {
   "cell_type": "code",
   "execution_count": null,
   "id": "1d6127a2",
   "metadata": {},
   "outputs": [
    {
     "name": "stdout",
     "output_type": "stream",
     "text": [
      "Répartition 2 classes (train):\n",
      "label\n",
      "1    3875\n",
      "0    1341\n",
      "Name: count, dtype: int64\n",
      "\n",
      "Répartition 3 classes (train):\n",
      "label\n",
      "2    2530\n",
      "1    1345\n",
      "0    1341\n",
      "Name: count, dtype: int64\n"
     ]
    }
   ],
   "source": [
    "import pandas as pd\n",
    "\n",
    "# DataFrame pour 2 classes\n",
    "def create_dataframe_2classes(directory):\n",
    "    file_paths = []\n",
    "    labels = []\n",
    "    for class_name in [\"NORMAL\", \"PNEUMONIA\"]:\n",
    "        class_dir = os.path.join(directory, class_name)\n",
    "        for img_name in os.listdir(class_dir):\n",
    "            if img_name.startswith(\".\") or \"Zone.Identifier\" in img_name:\n",
    "                continue\n",
    "            file_paths.append(os.path.join(class_dir, img_name))\n",
    "            labels.append(0 if class_name == \"NORMAL\" else 1)  # 0: NORMAL, 1: PNEUMONIA\n",
    "    return pd.DataFrame({\"file_path\": file_paths, \"label\": labels})\n",
    "\n",
    "\n",
    "# DataFrame pour 3 classes\n",
    "def create_dataframe_3classes(directory):\n",
    "    file_paths = []\n",
    "    labels = []\n",
    "    for class_name in [\"NORMAL\", \"PNEUMONIA\"]:\n",
    "        class_dir = os.path.join(directory, class_name)\n",
    "        for img_name in os.listdir(class_dir):\n",
    "            if img_name.startswith(\".\") or \"Zone.Identifier\" in img_name:\n",
    "                continue\n",
    "            img_path = os.path.join(class_dir, img_name)\n",
    "            if class_name == \"NORMAL\":\n",
    "                labels.append(0)  \n",
    "            elif \"virus\" in img_name.lower():\n",
    "                labels.append(1)  \n",
    "            elif \"bacteria\" in img_name.lower():\n",
    "                labels.append(2)  \n",
    "            file_paths.append(img_path)\n",
    "    return pd.DataFrame({\"file_path\": file_paths, \"label\": labels})\n",
    "\n",
    "\n",
    "train_df_2classes = create_dataframe_2classes(train_dir)\n",
    "val_df_2classes = create_dataframe_2classes(val_dir)\n",
    "test_df_2classes = create_dataframe_2classes(test_dir)\n",
    "\n",
    "train_df_3classes = create_dataframe_3classes(train_dir)\n",
    "val_df_3classes = create_dataframe_3classes(val_dir)\n",
    "test_df_3classes = create_dataframe_3classes(test_dir)\n",
    "\n",
    "print(\"Répartition 2 classes (train):\")\n",
    "print(train_df_2classes[\"label\"].value_counts())\n",
    "print(\"\\nRépartition 3 classes (train):\")\n",
    "print(train_df_3classes[\"label\"].value_counts())"
   ]
  },
  {
   "cell_type": "code",
   "execution_count": 93,
   "id": "ea7f5aaa",
   "metadata": {},
   "outputs": [
    {
     "data": {
      "application/vnd.microsoft.datawrangler.viewer.v0+json": {
       "columns": [
        {
         "name": "index",
         "rawType": "int64",
         "type": "integer"
        },
        {
         "name": "file_path",
         "rawType": "object",
         "type": "string"
        },
        {
         "name": "label",
         "rawType": "int64",
         "type": "integer"
        }
       ],
       "conversionMethod": "pd.DataFrame",
       "ref": "20b83606-2a7d-47a8-986e-7f19c18d1e5b",
       "rows": [
        [
         "0",
         "./data/chest_Xray/train/NORMAL/NORMAL2-IM-1319-0001.jpeg",
         "0"
        ],
        [
         "1",
         "./data/chest_Xray/train/NORMAL/NORMAL2-IM-0997-0001.jpeg",
         "0"
        ],
        [
         "2",
         "./data/chest_Xray/train/NORMAL/NORMAL2-IM-0719-0001.jpeg",
         "0"
        ],
        [
         "3",
         "./data/chest_Xray/train/NORMAL/NORMAL2-IM-0942-0001.jpeg",
         "0"
        ],
        [
         "4",
         "./data/chest_Xray/train/NORMAL/NORMAL2-IM-0536-0001.jpeg",
         "0"
        ],
        [
         "5",
         "./data/chest_Xray/train/NORMAL/IM-0355-0001.jpeg",
         "0"
        ],
        [
         "6",
         "./data/chest_Xray/train/NORMAL/NORMAL2-IM-1088-0001.jpeg",
         "0"
        ],
        [
         "7",
         "./data/chest_Xray/train/NORMAL/IM-0487-0001.jpeg",
         "0"
        ],
        [
         "8",
         "./data/chest_Xray/train/NORMAL/NORMAL2-IM-1266-0001-0002.jpeg",
         "0"
        ],
        [
         "9",
         "./data/chest_Xray/train/NORMAL/IM-0628-0001.jpeg",
         "0"
        ],
        [
         "10",
         "./data/chest_Xray/train/NORMAL/NORMAL2-IM-0396-0001.jpeg",
         "0"
        ],
        [
         "11",
         "./data/chest_Xray/train/NORMAL/IM-0501-0001-0002.jpeg",
         "0"
        ],
        [
         "12",
         "./data/chest_Xray/train/NORMAL/IM-0524-0001.jpeg",
         "0"
        ],
        [
         "13",
         "./data/chest_Xray/train/NORMAL/IM-0493-0001.jpeg",
         "0"
        ],
        [
         "14",
         "./data/chest_Xray/train/NORMAL/NORMAL2-IM-1051-0001.jpeg",
         "0"
        ],
        [
         "15",
         "./data/chest_Xray/train/NORMAL/NORMAL2-IM-0384-0001.jpeg",
         "0"
        ],
        [
         "16",
         "./data/chest_Xray/train/NORMAL/NORMAL2-IM-1026-0001.jpeg",
         "0"
        ],
        [
         "17",
         "./data/chest_Xray/train/NORMAL/IM-0757-0001.jpeg",
         "0"
        ],
        [
         "18",
         "./data/chest_Xray/train/NORMAL/NORMAL2-IM-1089-0001.jpeg",
         "0"
        ],
        [
         "19",
         "./data/chest_Xray/train/NORMAL/NORMAL2-IM-0907-0001.jpeg",
         "0"
        ],
        [
         "20",
         "./data/chest_Xray/train/NORMAL/IM-0627-0001.jpeg",
         "0"
        ],
        [
         "21",
         "./data/chest_Xray/train/NORMAL/NORMAL2-IM-0433-0001.jpeg",
         "0"
        ],
        [
         "22",
         "./data/chest_Xray/train/NORMAL/NORMAL2-IM-0620-0001.jpeg",
         "0"
        ],
        [
         "23",
         "./data/chest_Xray/train/NORMAL/IM-0303-0001.jpeg",
         "0"
        ],
        [
         "24",
         "./data/chest_Xray/train/NORMAL/IM-0678-0001.jpeg",
         "0"
        ],
        [
         "25",
         "./data/chest_Xray/train/NORMAL/IM-0722-0001.jpeg",
         "0"
        ],
        [
         "26",
         "./data/chest_Xray/train/NORMAL/IM-0523-0001-0002.jpeg",
         "0"
        ],
        [
         "27",
         "./data/chest_Xray/train/NORMAL/NORMAL2-IM-0678-0001.jpeg",
         "0"
        ],
        [
         "28",
         "./data/chest_Xray/train/NORMAL/IM-0238-0001.jpeg",
         "0"
        ],
        [
         "29",
         "./data/chest_Xray/train/NORMAL/IM-0433-0001.jpeg",
         "0"
        ],
        [
         "30",
         "./data/chest_Xray/train/NORMAL/IM-0733-0001.jpeg",
         "0"
        ],
        [
         "31",
         "./data/chest_Xray/train/NORMAL/NORMAL2-IM-0832-0001-0001.jpeg",
         "0"
        ],
        [
         "32",
         "./data/chest_Xray/train/NORMAL/NORMAL2-IM-0462-0001.jpeg",
         "0"
        ],
        [
         "33",
         "./data/chest_Xray/train/NORMAL/IM-0133-0001.jpeg",
         "0"
        ],
        [
         "34",
         "./data/chest_Xray/train/NORMAL/IM-0164-0001.jpeg",
         "0"
        ],
        [
         "35",
         "./data/chest_Xray/train/NORMAL/NORMAL2-IM-0552-0001.jpeg",
         "0"
        ],
        [
         "36",
         "./data/chest_Xray/train/NORMAL/NORMAL2-IM-1292-0001.jpeg",
         "0"
        ],
        [
         "37",
         "./data/chest_Xray/train/NORMAL/NORMAL2-IM-0409-0001.jpeg",
         "0"
        ],
        [
         "38",
         "./data/chest_Xray/train/NORMAL/IM-0279-0001.jpeg",
         "0"
        ],
        [
         "39",
         "./data/chest_Xray/train/NORMAL/NORMAL2-IM-1191-0001.jpeg",
         "0"
        ],
        [
         "40",
         "./data/chest_Xray/train/NORMAL/IM-0391-0001.jpeg",
         "0"
        ],
        [
         "41",
         "./data/chest_Xray/train/NORMAL/IM-0346-0001.jpeg",
         "0"
        ],
        [
         "42",
         "./data/chest_Xray/train/NORMAL/IM-0673-0001.jpeg",
         "0"
        ],
        [
         "43",
         "./data/chest_Xray/train/NORMAL/NORMAL2-IM-0629-0001.jpeg",
         "0"
        ],
        [
         "44",
         "./data/chest_Xray/train/NORMAL/NORMAL2-IM-0592-0001.jpeg",
         "0"
        ],
        [
         "45",
         "./data/chest_Xray/train/NORMAL/NORMAL2-IM-0912-0001.jpeg",
         "0"
        ],
        [
         "46",
         "./data/chest_Xray/train/NORMAL/IM-0239-0001.jpeg",
         "0"
        ],
        [
         "47",
         "./data/chest_Xray/train/NORMAL/NORMAL2-IM-0848-0001.jpeg",
         "0"
        ],
        [
         "48",
         "./data/chest_Xray/train/NORMAL/NORMAL2-IM-0604-0001.jpeg",
         "0"
        ],
        [
         "49",
         "./data/chest_Xray/train/NORMAL/IM-0514-0001.jpeg",
         "0"
        ]
       ],
       "shape": {
        "columns": 2,
        "rows": 5216
       }
      },
      "text/html": [
       "<div>\n",
       "<style scoped>\n",
       "    .dataframe tbody tr th:only-of-type {\n",
       "        vertical-align: middle;\n",
       "    }\n",
       "\n",
       "    .dataframe tbody tr th {\n",
       "        vertical-align: top;\n",
       "    }\n",
       "\n",
       "    .dataframe thead th {\n",
       "        text-align: right;\n",
       "    }\n",
       "</style>\n",
       "<table border=\"1\" class=\"dataframe\">\n",
       "  <thead>\n",
       "    <tr style=\"text-align: right;\">\n",
       "      <th></th>\n",
       "      <th>file_path</th>\n",
       "      <th>label</th>\n",
       "    </tr>\n",
       "  </thead>\n",
       "  <tbody>\n",
       "    <tr>\n",
       "      <th>0</th>\n",
       "      <td>./data/chest_Xray/train/NORMAL/NORMAL2-IM-1319...</td>\n",
       "      <td>0</td>\n",
       "    </tr>\n",
       "    <tr>\n",
       "      <th>1</th>\n",
       "      <td>./data/chest_Xray/train/NORMAL/NORMAL2-IM-0997...</td>\n",
       "      <td>0</td>\n",
       "    </tr>\n",
       "    <tr>\n",
       "      <th>2</th>\n",
       "      <td>./data/chest_Xray/train/NORMAL/NORMAL2-IM-0719...</td>\n",
       "      <td>0</td>\n",
       "    </tr>\n",
       "    <tr>\n",
       "      <th>3</th>\n",
       "      <td>./data/chest_Xray/train/NORMAL/NORMAL2-IM-0942...</td>\n",
       "      <td>0</td>\n",
       "    </tr>\n",
       "    <tr>\n",
       "      <th>4</th>\n",
       "      <td>./data/chest_Xray/train/NORMAL/NORMAL2-IM-0536...</td>\n",
       "      <td>0</td>\n",
       "    </tr>\n",
       "    <tr>\n",
       "      <th>...</th>\n",
       "      <td>...</td>\n",
       "      <td>...</td>\n",
       "    </tr>\n",
       "    <tr>\n",
       "      <th>5211</th>\n",
       "      <td>./data/chest_Xray/train/PNEUMONIA/person1160_v...</td>\n",
       "      <td>1</td>\n",
       "    </tr>\n",
       "    <tr>\n",
       "      <th>5212</th>\n",
       "      <td>./data/chest_Xray/train/PNEUMONIA/person1593_v...</td>\n",
       "      <td>1</td>\n",
       "    </tr>\n",
       "    <tr>\n",
       "      <th>5213</th>\n",
       "      <td>./data/chest_Xray/train/PNEUMONIA/person1609_b...</td>\n",
       "      <td>1</td>\n",
       "    </tr>\n",
       "    <tr>\n",
       "      <th>5214</th>\n",
       "      <td>./data/chest_Xray/train/PNEUMONIA/person441_ba...</td>\n",
       "      <td>1</td>\n",
       "    </tr>\n",
       "    <tr>\n",
       "      <th>5215</th>\n",
       "      <td>./data/chest_Xray/train/PNEUMONIA/person1476_b...</td>\n",
       "      <td>1</td>\n",
       "    </tr>\n",
       "  </tbody>\n",
       "</table>\n",
       "<p>5216 rows × 2 columns</p>\n",
       "</div>"
      ],
      "text/plain": [
       "                                              file_path  label\n",
       "0     ./data/chest_Xray/train/NORMAL/NORMAL2-IM-1319...      0\n",
       "1     ./data/chest_Xray/train/NORMAL/NORMAL2-IM-0997...      0\n",
       "2     ./data/chest_Xray/train/NORMAL/NORMAL2-IM-0719...      0\n",
       "3     ./data/chest_Xray/train/NORMAL/NORMAL2-IM-0942...      0\n",
       "4     ./data/chest_Xray/train/NORMAL/NORMAL2-IM-0536...      0\n",
       "...                                                 ...    ...\n",
       "5211  ./data/chest_Xray/train/PNEUMONIA/person1160_v...      1\n",
       "5212  ./data/chest_Xray/train/PNEUMONIA/person1593_v...      1\n",
       "5213  ./data/chest_Xray/train/PNEUMONIA/person1609_b...      1\n",
       "5214  ./data/chest_Xray/train/PNEUMONIA/person441_ba...      1\n",
       "5215  ./data/chest_Xray/train/PNEUMONIA/person1476_b...      1\n",
       "\n",
       "[5216 rows x 2 columns]"
      ]
     },
     "execution_count": 93,
     "metadata": {},
     "output_type": "execute_result"
    }
   ],
   "source": [
    "train_df_2classes"
   ]
  },
  {
   "cell_type": "code",
   "execution_count": 99,
   "id": "39b6b0ff",
   "metadata": {},
   "outputs": [],
   "source": [
    "# ## ça à creuser car pas tout compris\n",
    "# from keras._tf_keras.keras.preprocessing.image import ImageDataGenerator\n",
    "\n",
    "# # Paramètres\n",
    "# IMG_SIZE = (150, 150)\n",
    "# BATCH_SIZE = 32\n",
    "\n",
    "# # Générateurs pour 2 classes\n",
    "# train_datagen = ImageDataGenerator(\n",
    "#     rescale=1.0 / 255,  # Normalisation\n",
    "#     rotation_range=10,  # Augmentation\n",
    "#     width_shift_range=0.1,\n",
    "#     height_shift_range=0.1,\n",
    "#     shear_range=0.1,\n",
    "#     zoom_range=0.1,\n",
    "#     fill_mode=\"nearest\",\n",
    "# )\n",
    "\n",
    "# val_datagen = ImageDataGenerator(rescale=1.0 / 255)  # Pas d’augmentation pour val/test\n",
    "\n",
    "# train_generator_2classes = train_datagen.flow_from_dataframe(\n",
    "#     train_df_2classes,\n",
    "#     x_col=\"file_path\",\n",
    "#     y_col=\"label\",\n",
    "#     target_size=IMG_SIZE,\n",
    "#     color_mode=\"grayscale\",\n",
    "#     batch_size=BATCH_SIZE,\n",
    "#     class_mode=\"binary\",\n",
    "#     shuffle=True,\n",
    "# )\n",
    "\n",
    "# val_generator_2classes = val_datagen.flow_from_dataframe(\n",
    "#     val_df_2classes,\n",
    "#     x_col=\"file_path\",\n",
    "#     y_col=\"label\",\n",
    "#     target_size=IMG_SIZE,\n",
    "#     color_mode=\"grayscale\",\n",
    "#     batch_size=BATCH_SIZE,\n",
    "#     class_mode=\"binary\",\n",
    "#     shuffle=False,\n",
    "# )\n",
    "\n",
    "# test_generator_2classes = val_datagen.flow_from_dataframe(\n",
    "#     test_df_2classes,\n",
    "#     x_col=\"file_path\",\n",
    "#     y_col=\"label\",\n",
    "#     target_size=IMG_SIZE,\n",
    "#     color_mode=\"grayscale\",\n",
    "#     batch_size=BATCH_SIZE,\n",
    "#     class_mode=\"binary\",\n",
    "#     shuffle=False,\n",
    "# )\n",
    "\n",
    "# # Générateurs pour 3 classes\n",
    "# train_generator_3classes = train_datagen.flow_from_dataframe(\n",
    "#     train_df_3classes,\n",
    "#     x_col=\"file_path\",\n",
    "#     y_col=\"label\",\n",
    "#     target_size=IMG_SIZE,\n",
    "#     color_mode=\"grayscale\",\n",
    "#     batch_size=BATCH_SIZE,\n",
    "#     class_mode=\"sparse\",  # Pour sparse_categorical_crossentropy\n",
    "#     shuffle=True,\n",
    "# )\n",
    "\n",
    "# val_generator_3classes = val_datagen.flow_from_dataframe(\n",
    "#     val_df_3classes,\n",
    "#     x_col=\"file_path\",\n",
    "#     y_col=\"label\",\n",
    "#     target_size=IMG_SIZE,\n",
    "#     color_mode=\"grayscale\",\n",
    "#     batch_size=BATCH_SIZE,\n",
    "#     class_mode=\"sparse\",\n",
    "#     shuffle=False,\n",
    "# )\n",
    "\n",
    "# test_generator_3classes = val_datagen.flow_from_dataframe(\n",
    "#     test_df_3classes,\n",
    "#     x_col=\"file_path\",\n",
    "#     y_col=\"label\",\n",
    "#     target_size=IMG_SIZE,\n",
    "#     color_mode=\"grayscale\",\n",
    "#     batch_size=BATCH_SIZE,\n",
    "#     class_mode=\"sparse\",\n",
    "#     shuffle=False,\n",
    "# )"
   ]
  },
  {
   "cell_type": "code",
   "execution_count": 95,
   "id": "aa1dc9de",
   "metadata": {},
   "outputs": [],
   "source": [
    "### C - Entrainement du modèle"
   ]
  },
  {
   "cell_type": "code",
   "execution_count": 100,
   "id": "cbbda403",
   "metadata": {},
   "outputs": [],
   "source": [
    "# import matplotlib.pyplot as plt\n",
    "\n",
    "\n",
    "# def plot_images(generator, num_images=5):\n",
    "#     images, labels = next(generator)\n",
    "#     plt.figure(figsize=(15, 3))\n",
    "#     for i in range(num_images):\n",
    "#         plt.subplot(1, num_images, i + 1)\n",
    "#         plt.imshow(images[i].squeeze(), cmap=\"gray\")\n",
    "#         plt.title(f\"Label: {labels[i]}\")\n",
    "#         plt.axis(\"off\")\n",
    "#     plt.show()\n",
    "\n",
    "\n",
    "# plot_images(train_df_2classes)"
   ]
  },
  {
   "cell_type": "code",
   "execution_count": null,
   "id": "c2dd4ca4",
   "metadata": {},
   "outputs": [],
   "source": []
  }
 ],
 "metadata": {
  "kernelspec": {
   "display_name": "pneumonie",
   "language": "python",
   "name": "python3"
  },
  "language_info": {
   "codemirror_mode": {
    "name": "ipython",
    "version": 3
   },
   "file_extension": ".py",
   "mimetype": "text/x-python",
   "name": "python",
   "nbconvert_exporter": "python",
   "pygments_lexer": "ipython3",
   "version": "3.10.16"
  }
 },
 "nbformat": 4,
 "nbformat_minor": 5
}
